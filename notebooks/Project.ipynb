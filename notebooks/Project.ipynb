{
  "nbformat": 4,
  "nbformat_minor": 0,
  "metadata": {
    "colab": {
      "provenance": []
    },
    "kernelspec": {
      "name": "python3",
      "display_name": "Python 3"
    },
    "language_info": {
      "name": "python"
    }
  },
  "cells": [
    {
      "cell_type": "markdown",
      "source": [
        "<h1 >GDP, Productivity & Global Trends <h1>"
      ],
      "metadata": {
        "id": "PJEqCNhwLqO5"
      }
    },
    {
      "cell_type": "markdown",
      "source": [
        "<img src=\"https://storage.googleapis.com/kaggle-datasets-images/3911151/6798324/026fb7195fd45a451b5f3f39f9a5118e/dataset-cover.jpg?t=2023-10-26-04-53-00\" height=400></center>"
      ],
      "metadata": {
        "id": "E88pSysXLygM"
      }
    },
    {
      "cell_type": "markdown",
      "source": [
        "This project uses data from **The Economist**'s October 4th, 2023 article **\"Productivity has grown faster in western Europe than in America\"**, which explores productivity trends across regions. The dataset combines information from the **OECD and World Bank**, and was curated by The Economist and Sondre Solstad (2023).\n",
        "\n",
        "> 📖 **Citation**:  \n",
        "The Economist and Solstad, Sondre (corresponding author), 2023. _“All work and no play”_, The Economist, October 4th issue, 2023.  \n",
        "Source: [Kaggle Dataset](https://www.kaggle.com/)  \n",
        "\n"
      ],
      "metadata": {
        "id": "XXa5NPOrM2JZ"
      }
    },
    {
      "cell_type": "markdown",
      "source": [
        "<h1>Project Scope<h1>"
      ],
      "metadata": {
        "id": "w-hMS6lDcLe8"
      }
    },
    {
      "cell_type": "markdown",
      "source": [
        "This project explores global and country-level trends in GDP and related socio-economic indicators, using data featured in The Economist (2023). Key questions include:\n",
        "### 📊 Economic Performance\n",
        "\n",
        "1. Which countries have the highest GDP per capita in the most recent year?\n",
        "2. Compare GDP vs PPP-adjusted GDP for the top 5 economies in 2020.\n",
        "3. How has GDP per capita evolved over time for selected countries?\n",
        "\n",
        "---\n",
        "\n",
        "### 🧠 Demographics & Labor\n",
        "\n",
        "4. Is there a relationship between the percentage of population over 65 and GDP per capita?\n",
        "5. Do top 10 countries by GDP/capita also show low unemployment? (Inequality insight)\n",
        "6. Any relationship between hours worked and GDP (or GDP/hour)?\n",
        "\n",
        "---\n",
        "\n",
        "### 🌍 Global & Regional Comparisons\n",
        "\n",
        "7. How has the **global average GDP per capita** evolved since 1990?\n",
        "8. How does the **global trajectory** compare with countries like US, India, China?\n",
        "9. Which regions contribute the most to global GDP (Sunburst)?\n",
        "\n",
        "---\n",
        "\n",
        "### 📊Regression analysis questions (exploratory)\n",
        "\n",
        "10. Is there a significant relationship between labor force size and GDP per capita across countries?\n",
        "\n",
        "11. Can we predict GDP per capita using demographic indicators like labor force size and percentage of population over 65?\n",
        "\n",
        "12. Can we predict GDP per capita using demographic indicators like labor force and population over 65?"
      ],
      "metadata": {
        "id": "r8V17c8ebhcw"
      }
    },
    {
      "cell_type": "markdown",
      "source": [
        "\n",
        "This notebook contains:\n",
        "\n",
        "1. Dataset overview and initial exploration  \n",
        "2. Data cleaning steps  \n",
        "3. Planned SQL questions  \n",
        "4. Environment setup and schema\n"
      ],
      "metadata": {
        "id": "F1oF2qI9Q-9v"
      }
    },
    {
      "cell_type": "markdown",
      "source": [
        "<h2>Install Package with Country Codes<h2>\n",
        "\n",
        "\n",
        "\n",
        "\n",
        "\n",
        "\n",
        "\n",
        "\n",
        "\n",
        "\n"
      ],
      "metadata": {
        "id": "WTqP8JtKOqMP"
      }
    },
    {
      "cell_type": "code",
      "execution_count": 50,
      "metadata": {
        "colab": {
          "base_uri": "https://localhost:8080/"
        },
        "id": "ZrEP2iO_7obs",
        "outputId": "742c346e-cda4-4d5c-ac7e-d8e02842069c"
      },
      "outputs": [
        {
          "output_type": "stream",
          "name": "stdout",
          "text": [
            "Requirement already satisfied: iso3166 in /usr/local/lib/python3.11/dist-packages (2.1.1)\n",
            "Requirement already satisfied: plotly in /usr/local/lib/python3.11/dist-packages (6.1.2)\n",
            "Requirement already satisfied: narwhals>=1.15.1 in /usr/local/lib/python3.11/dist-packages (from plotly) (1.40.0)\n",
            "Requirement already satisfied: packaging in /usr/local/lib/python3.11/dist-packages (from plotly) (24.2)\n"
          ]
        }
      ],
      "source": [
        "%pip install iso3166\n",
        "%pip install --upgrade plotly\n",
        "!pip install -q kaleido"
      ]
    },
    {
      "cell_type": "markdown",
      "source": [
        "<h2>Import Statements <h2>"
      ],
      "metadata": {
        "id": "wT05tU9GPC1T"
      }
    },
    {
      "cell_type": "code",
      "source": [
        "import numpy as np\n",
        "import pandas as pd\n",
        "import plotly.express as px\n",
        "import matplotlib.pyplot as plt\n",
        "import seaborn as sns\n",
        "from iso3166 import countries\n",
        "from datetime import datetime, timedelta\n",
        "from sklearn.linear_model import LinearRegression\n",
        "import sqlite3\n"
      ],
      "metadata": {
        "id": "XNW0RdEDO5hH"
      },
      "execution_count": 4,
      "outputs": []
    },
    {
      "cell_type": "markdown",
      "metadata": {
        "id": "lovGPRgKxIgo"
      },
      "source": [
        "### Notebook Presentation"
      ]
    },
    {
      "cell_type": "code",
      "metadata": {
        "id": "DHEULCOjxIIm"
      },
      "source": [
        "pd.options.display.float_format = '{:,.2f}'.format"
      ],
      "execution_count": 5,
      "outputs": []
    },
    {
      "cell_type": "markdown",
      "source": [
        "Make folder visuals"
      ],
      "metadata": {
        "id": "MiGxYCJlD5v8"
      }
    },
    {
      "cell_type": "code",
      "source": [
        "!mkdir -p visuals"
      ],
      "metadata": {
        "id": "z0Cl8G2S_1Xs"
      },
      "execution_count": null,
      "outputs": []
    },
    {
      "cell_type": "code",
      "source": [
        "from google.colab import files"
      ],
      "metadata": {
        "colab": {
          "base_uri": "https://localhost:8080/",
          "height": 17
        },
        "outputId": "8990b741-e4c5-4a28-e03f-6b6d721a01a1",
        "id": "pYkPPDFfD5v-"
      },
      "execution_count": null,
      "outputs": [
        {
          "output_type": "display_data",
          "data": {
            "text/plain": [
              "<IPython.core.display.Javascript object>"
            ],
            "application/javascript": [
              "\n",
              "    async function download(id, filename, size) {\n",
              "      if (!google.colab.kernel.accessAllowed) {\n",
              "        return;\n",
              "      }\n",
              "      const div = document.createElement('div');\n",
              "      const label = document.createElement('label');\n",
              "      label.textContent = `Downloading \"${filename}\": `;\n",
              "      div.appendChild(label);\n",
              "      const progress = document.createElement('progress');\n",
              "      progress.max = size;\n",
              "      div.appendChild(progress);\n",
              "      document.body.appendChild(div);\n",
              "\n",
              "      const buffers = [];\n",
              "      let downloaded = 0;\n",
              "\n",
              "      const channel = await google.colab.kernel.comms.open(id);\n",
              "      // Send a message to notify the kernel that we're ready.\n",
              "      channel.send({})\n",
              "\n",
              "      for await (const message of channel.messages) {\n",
              "        // Send a message to notify the kernel that we're ready.\n",
              "        channel.send({})\n",
              "        if (message.buffers) {\n",
              "          for (const buffer of message.buffers) {\n",
              "            buffers.push(buffer);\n",
              "            downloaded += buffer.byteLength;\n",
              "            progress.value = downloaded;\n",
              "          }\n",
              "        }\n",
              "      }\n",
              "      const blob = new Blob(buffers, {type: 'application/binary'});\n",
              "      const a = document.createElement('a');\n",
              "      a.href = window.URL.createObjectURL(blob);\n",
              "      a.download = filename;\n",
              "      div.appendChild(a);\n",
              "      a.click();\n",
              "      div.remove();\n",
              "    }\n",
              "  "
            ]
          },
          "metadata": {}
        },
        {
          "output_type": "display_data",
          "data": {
            "text/plain": [
              "<IPython.core.display.Javascript object>"
            ],
            "application/javascript": [
              "download(\"download_9361392a-2976-4d94-9d43-e866b119e32b\", \"Treemap_GDPcontribution.html\", 4662806)"
            ]
          },
          "metadata": {}
        }
      ]
    },
    {
      "cell_type": "markdown",
      "metadata": {
        "papermill": {
          "duration": 0.034606,
          "end_time": "2020-10-20T21:34:03.798396",
          "exception": false,
          "start_time": "2020-10-20T21:34:03.763790",
          "status": "completed"
        },
        "tags": [],
        "id": "yaT3QbjEa-p4"
      },
      "source": [
        "### Load the Data"
      ]
    },
    {
      "cell_type": "code",
      "metadata": {
        "_cell_guid": "79c7e3d0-c299-4dcb-8224-4455121ee9b0",
        "_kg_hide-input": true,
        "_uuid": "d629ff2d2480ee46fbb7e2d37f6b5fab8052498a",
        "execution": {
          "iopub.execute_input": "2020-10-20T21:34:03.874195Z",
          "iopub.status.busy": "2020-10-20T21:34:03.873775Z",
          "iopub.status.idle": "2020-10-20T21:34:03.921919Z",
          "shell.execute_reply": "2020-10-20T21:34:03.921418Z"
        },
        "papermill": {
          "duration": 0.08876,
          "end_time": "2020-10-20T21:34:03.922028",
          "exception": false,
          "start_time": "2020-10-20T21:34:03.833268",
          "status": "completed"
        },
        "tags": [],
        "id": "0lDOu8aka-p4"
      },
      "source": [
        "data = pd.read_csv('gdp_over_hours_worked.csv')"
      ],
      "execution_count": 7,
      "outputs": []
    },
    {
      "cell_type": "markdown",
      "metadata": {
        "id": "jAnMiVcVjuKB"
      },
      "source": [
        "# Preliminary Data Exploration\n",
        "\n",
        "* What is the shape of `df_data`?\n",
        "* How many rows and columns does it have?\n",
        "* What are the column names?\n",
        "* Are there any NaN values or duplicates?"
      ]
    },
    {
      "cell_type": "code",
      "source": [
        "print(data.shape)\n",
        "print(data.columns)"
      ],
      "metadata": {
        "colab": {
          "base_uri": "https://localhost:8080/"
        },
        "id": "yhOthyxqR0NV",
        "outputId": "50dc5a1d-8d72-425d-eb55-e9c20ea47245"
      },
      "execution_count": 8,
      "outputs": [
        {
          "output_type": "stream",
          "name": "stdout",
          "text": [
            "(11560, 27)\n",
            "Index(['iso2c', 'year', 'country', 'iso3c', 'pop', 'labor_force', 'gdp_ppp_c',\n",
            "       'gdp_ppp', 'gdp', 'gdp_c', 'unemployment_r', 'pop_over_65',\n",
            "       'working_age_pop_pct', 'employment_rate', 'hours_worked', 'total_hours',\n",
            "       'hours_per_employed', 'employed', 'total_hours_alternative',\n",
            "       'gdp_over_k_hours_worked', 'gdp_ppp_over_k_hours_worked',\n",
            "       'gdp_over_pop', 'gdp_ppp_over_pop', 'gdp_ppp_over_labor_force',\n",
            "       'gdp_ppp_over_pop_c', 'gdp_over_pop_c',\n",
            "       'gdp_ppp_over_k_hours_worked_c'],\n",
            "      dtype='object')\n"
          ]
        }
      ]
    },
    {
      "cell_type": "code",
      "source": [
        "data.head()"
      ],
      "metadata": {
        "colab": {
          "base_uri": "https://localhost:8080/",
          "height": 342
        },
        "id": "aQpvH_bdSlAC",
        "outputId": "62fbc1e0-6c41-4b47-b7e4-e8cf0bf88a8c"
      },
      "execution_count": 9,
      "outputs": [
        {
          "output_type": "execute_result",
          "data": {
            "text/plain": [
              "  iso2c  year     country iso3c            pop  labor_force  gdp_ppp_c  \\\n",
              "0    1A  1980  Arab World   ARB 167,707,208.00          NaN        NaN   \n",
              "1    1A  1981  Arab World   ARB 173,118,753.00          NaN        NaN   \n",
              "2    1A  1982  Arab World   ARB 178,587,926.00          NaN        NaN   \n",
              "3    1A  1983  Arab World   ARB 184,342,569.00          NaN        NaN   \n",
              "4    1A  1984  Arab World   ARB 190,162,096.00          NaN        NaN   \n",
              "\n",
              "   gdp_ppp                gdp              gdp_c  ...  employed  \\\n",
              "0      NaN 459,804,598,569.46 859,480,131,702.59  ...       NaN   \n",
              "1      NaN 474,812,142,540.09 888,479,304,523.50  ...       NaN   \n",
              "2      NaN 444,575,870,914.34 814,888,271,801.23  ...       NaN   \n",
              "3      NaN 418,462,069,813.76 764,300,353,587.64  ...       NaN   \n",
              "4      NaN 425,899,415,741.84 774,446,404,104.00  ...       NaN   \n",
              "\n",
              "   total_hours_alternative  gdp_over_k_hours_worked  \\\n",
              "0                      NaN                      NaN   \n",
              "1                      NaN                      NaN   \n",
              "2                      NaN                      NaN   \n",
              "3                      NaN                      NaN   \n",
              "4                      NaN                      NaN   \n",
              "\n",
              "   gdp_ppp_over_k_hours_worked  gdp_over_pop  gdp_ppp_over_pop  \\\n",
              "0                          NaN      2,741.71               NaN   \n",
              "1                          NaN      2,742.70               NaN   \n",
              "2                          NaN      2,489.39               NaN   \n",
              "3                          NaN      2,270.02               NaN   \n",
              "4                          NaN      2,239.67               NaN   \n",
              "\n",
              "   gdp_ppp_over_labor_force  gdp_ppp_over_pop_c  gdp_over_pop_c  \\\n",
              "0                       NaN                 NaN        5,124.88   \n",
              "1                       NaN                 NaN        5,132.20   \n",
              "2                       NaN                 NaN        4,562.95   \n",
              "3                       NaN                 NaN        4,146.09   \n",
              "4                       NaN                 NaN        4,072.56   \n",
              "\n",
              "   gdp_ppp_over_k_hours_worked_c  \n",
              "0                            NaN  \n",
              "1                            NaN  \n",
              "2                            NaN  \n",
              "3                            NaN  \n",
              "4                            NaN  \n",
              "\n",
              "[5 rows x 27 columns]"
            ],
            "text/html": [
              "\n",
              "  <div id=\"df-5e0b6c71-3472-4209-a1e9-caed1e556834\" class=\"colab-df-container\">\n",
              "    <div>\n",
              "<style scoped>\n",
              "    .dataframe tbody tr th:only-of-type {\n",
              "        vertical-align: middle;\n",
              "    }\n",
              "\n",
              "    .dataframe tbody tr th {\n",
              "        vertical-align: top;\n",
              "    }\n",
              "\n",
              "    .dataframe thead th {\n",
              "        text-align: right;\n",
              "    }\n",
              "</style>\n",
              "<table border=\"1\" class=\"dataframe\">\n",
              "  <thead>\n",
              "    <tr style=\"text-align: right;\">\n",
              "      <th></th>\n",
              "      <th>iso2c</th>\n",
              "      <th>year</th>\n",
              "      <th>country</th>\n",
              "      <th>iso3c</th>\n",
              "      <th>pop</th>\n",
              "      <th>labor_force</th>\n",
              "      <th>gdp_ppp_c</th>\n",
              "      <th>gdp_ppp</th>\n",
              "      <th>gdp</th>\n",
              "      <th>gdp_c</th>\n",
              "      <th>...</th>\n",
              "      <th>employed</th>\n",
              "      <th>total_hours_alternative</th>\n",
              "      <th>gdp_over_k_hours_worked</th>\n",
              "      <th>gdp_ppp_over_k_hours_worked</th>\n",
              "      <th>gdp_over_pop</th>\n",
              "      <th>gdp_ppp_over_pop</th>\n",
              "      <th>gdp_ppp_over_labor_force</th>\n",
              "      <th>gdp_ppp_over_pop_c</th>\n",
              "      <th>gdp_over_pop_c</th>\n",
              "      <th>gdp_ppp_over_k_hours_worked_c</th>\n",
              "    </tr>\n",
              "  </thead>\n",
              "  <tbody>\n",
              "    <tr>\n",
              "      <th>0</th>\n",
              "      <td>1A</td>\n",
              "      <td>1980</td>\n",
              "      <td>Arab World</td>\n",
              "      <td>ARB</td>\n",
              "      <td>167,707,208.00</td>\n",
              "      <td>NaN</td>\n",
              "      <td>NaN</td>\n",
              "      <td>NaN</td>\n",
              "      <td>459,804,598,569.46</td>\n",
              "      <td>859,480,131,702.59</td>\n",
              "      <td>...</td>\n",
              "      <td>NaN</td>\n",
              "      <td>NaN</td>\n",
              "      <td>NaN</td>\n",
              "      <td>NaN</td>\n",
              "      <td>2,741.71</td>\n",
              "      <td>NaN</td>\n",
              "      <td>NaN</td>\n",
              "      <td>NaN</td>\n",
              "      <td>5,124.88</td>\n",
              "      <td>NaN</td>\n",
              "    </tr>\n",
              "    <tr>\n",
              "      <th>1</th>\n",
              "      <td>1A</td>\n",
              "      <td>1981</td>\n",
              "      <td>Arab World</td>\n",
              "      <td>ARB</td>\n",
              "      <td>173,118,753.00</td>\n",
              "      <td>NaN</td>\n",
              "      <td>NaN</td>\n",
              "      <td>NaN</td>\n",
              "      <td>474,812,142,540.09</td>\n",
              "      <td>888,479,304,523.50</td>\n",
              "      <td>...</td>\n",
              "      <td>NaN</td>\n",
              "      <td>NaN</td>\n",
              "      <td>NaN</td>\n",
              "      <td>NaN</td>\n",
              "      <td>2,742.70</td>\n",
              "      <td>NaN</td>\n",
              "      <td>NaN</td>\n",
              "      <td>NaN</td>\n",
              "      <td>5,132.20</td>\n",
              "      <td>NaN</td>\n",
              "    </tr>\n",
              "    <tr>\n",
              "      <th>2</th>\n",
              "      <td>1A</td>\n",
              "      <td>1982</td>\n",
              "      <td>Arab World</td>\n",
              "      <td>ARB</td>\n",
              "      <td>178,587,926.00</td>\n",
              "      <td>NaN</td>\n",
              "      <td>NaN</td>\n",
              "      <td>NaN</td>\n",
              "      <td>444,575,870,914.34</td>\n",
              "      <td>814,888,271,801.23</td>\n",
              "      <td>...</td>\n",
              "      <td>NaN</td>\n",
              "      <td>NaN</td>\n",
              "      <td>NaN</td>\n",
              "      <td>NaN</td>\n",
              "      <td>2,489.39</td>\n",
              "      <td>NaN</td>\n",
              "      <td>NaN</td>\n",
              "      <td>NaN</td>\n",
              "      <td>4,562.95</td>\n",
              "      <td>NaN</td>\n",
              "    </tr>\n",
              "    <tr>\n",
              "      <th>3</th>\n",
              "      <td>1A</td>\n",
              "      <td>1983</td>\n",
              "      <td>Arab World</td>\n",
              "      <td>ARB</td>\n",
              "      <td>184,342,569.00</td>\n",
              "      <td>NaN</td>\n",
              "      <td>NaN</td>\n",
              "      <td>NaN</td>\n",
              "      <td>418,462,069,813.76</td>\n",
              "      <td>764,300,353,587.64</td>\n",
              "      <td>...</td>\n",
              "      <td>NaN</td>\n",
              "      <td>NaN</td>\n",
              "      <td>NaN</td>\n",
              "      <td>NaN</td>\n",
              "      <td>2,270.02</td>\n",
              "      <td>NaN</td>\n",
              "      <td>NaN</td>\n",
              "      <td>NaN</td>\n",
              "      <td>4,146.09</td>\n",
              "      <td>NaN</td>\n",
              "    </tr>\n",
              "    <tr>\n",
              "      <th>4</th>\n",
              "      <td>1A</td>\n",
              "      <td>1984</td>\n",
              "      <td>Arab World</td>\n",
              "      <td>ARB</td>\n",
              "      <td>190,162,096.00</td>\n",
              "      <td>NaN</td>\n",
              "      <td>NaN</td>\n",
              "      <td>NaN</td>\n",
              "      <td>425,899,415,741.84</td>\n",
              "      <td>774,446,404,104.00</td>\n",
              "      <td>...</td>\n",
              "      <td>NaN</td>\n",
              "      <td>NaN</td>\n",
              "      <td>NaN</td>\n",
              "      <td>NaN</td>\n",
              "      <td>2,239.67</td>\n",
              "      <td>NaN</td>\n",
              "      <td>NaN</td>\n",
              "      <td>NaN</td>\n",
              "      <td>4,072.56</td>\n",
              "      <td>NaN</td>\n",
              "    </tr>\n",
              "  </tbody>\n",
              "</table>\n",
              "<p>5 rows × 27 columns</p>\n",
              "</div>\n",
              "    <div class=\"colab-df-buttons\">\n",
              "\n",
              "  <div class=\"colab-df-container\">\n",
              "    <button class=\"colab-df-convert\" onclick=\"convertToInteractive('df-5e0b6c71-3472-4209-a1e9-caed1e556834')\"\n",
              "            title=\"Convert this dataframe to an interactive table.\"\n",
              "            style=\"display:none;\">\n",
              "\n",
              "  <svg xmlns=\"http://www.w3.org/2000/svg\" height=\"24px\" viewBox=\"0 -960 960 960\">\n",
              "    <path d=\"M120-120v-720h720v720H120Zm60-500h600v-160H180v160Zm220 220h160v-160H400v160Zm0 220h160v-160H400v160ZM180-400h160v-160H180v160Zm440 0h160v-160H620v160ZM180-180h160v-160H180v160Zm440 0h160v-160H620v160Z\"/>\n",
              "  </svg>\n",
              "    </button>\n",
              "\n",
              "  <style>\n",
              "    .colab-df-container {\n",
              "      display:flex;\n",
              "      gap: 12px;\n",
              "    }\n",
              "\n",
              "    .colab-df-convert {\n",
              "      background-color: #E8F0FE;\n",
              "      border: none;\n",
              "      border-radius: 50%;\n",
              "      cursor: pointer;\n",
              "      display: none;\n",
              "      fill: #1967D2;\n",
              "      height: 32px;\n",
              "      padding: 0 0 0 0;\n",
              "      width: 32px;\n",
              "    }\n",
              "\n",
              "    .colab-df-convert:hover {\n",
              "      background-color: #E2EBFA;\n",
              "      box-shadow: 0px 1px 2px rgba(60, 64, 67, 0.3), 0px 1px 3px 1px rgba(60, 64, 67, 0.15);\n",
              "      fill: #174EA6;\n",
              "    }\n",
              "\n",
              "    .colab-df-buttons div {\n",
              "      margin-bottom: 4px;\n",
              "    }\n",
              "\n",
              "    [theme=dark] .colab-df-convert {\n",
              "      background-color: #3B4455;\n",
              "      fill: #D2E3FC;\n",
              "    }\n",
              "\n",
              "    [theme=dark] .colab-df-convert:hover {\n",
              "      background-color: #434B5C;\n",
              "      box-shadow: 0px 1px 3px 1px rgba(0, 0, 0, 0.15);\n",
              "      filter: drop-shadow(0px 1px 2px rgba(0, 0, 0, 0.3));\n",
              "      fill: #FFFFFF;\n",
              "    }\n",
              "  </style>\n",
              "\n",
              "    <script>\n",
              "      const buttonEl =\n",
              "        document.querySelector('#df-5e0b6c71-3472-4209-a1e9-caed1e556834 button.colab-df-convert');\n",
              "      buttonEl.style.display =\n",
              "        google.colab.kernel.accessAllowed ? 'block' : 'none';\n",
              "\n",
              "      async function convertToInteractive(key) {\n",
              "        const element = document.querySelector('#df-5e0b6c71-3472-4209-a1e9-caed1e556834');\n",
              "        const dataTable =\n",
              "          await google.colab.kernel.invokeFunction('convertToInteractive',\n",
              "                                                    [key], {});\n",
              "        if (!dataTable) return;\n",
              "\n",
              "        const docLinkHtml = 'Like what you see? Visit the ' +\n",
              "          '<a target=\"_blank\" href=https://colab.research.google.com/notebooks/data_table.ipynb>data table notebook</a>'\n",
              "          + ' to learn more about interactive tables.';\n",
              "        element.innerHTML = '';\n",
              "        dataTable['output_type'] = 'display_data';\n",
              "        await google.colab.output.renderOutput(dataTable, element);\n",
              "        const docLink = document.createElement('div');\n",
              "        docLink.innerHTML = docLinkHtml;\n",
              "        element.appendChild(docLink);\n",
              "      }\n",
              "    </script>\n",
              "  </div>\n",
              "\n",
              "\n",
              "    <div id=\"df-95d7fa21-845f-4631-b314-08ab062e74c6\">\n",
              "      <button class=\"colab-df-quickchart\" onclick=\"quickchart('df-95d7fa21-845f-4631-b314-08ab062e74c6')\"\n",
              "                title=\"Suggest charts\"\n",
              "                style=\"display:none;\">\n",
              "\n",
              "<svg xmlns=\"http://www.w3.org/2000/svg\" height=\"24px\"viewBox=\"0 0 24 24\"\n",
              "     width=\"24px\">\n",
              "    <g>\n",
              "        <path d=\"M19 3H5c-1.1 0-2 .9-2 2v14c0 1.1.9 2 2 2h14c1.1 0 2-.9 2-2V5c0-1.1-.9-2-2-2zM9 17H7v-7h2v7zm4 0h-2V7h2v10zm4 0h-2v-4h2v4z\"/>\n",
              "    </g>\n",
              "</svg>\n",
              "      </button>\n",
              "\n",
              "<style>\n",
              "  .colab-df-quickchart {\n",
              "      --bg-color: #E8F0FE;\n",
              "      --fill-color: #1967D2;\n",
              "      --hover-bg-color: #E2EBFA;\n",
              "      --hover-fill-color: #174EA6;\n",
              "      --disabled-fill-color: #AAA;\n",
              "      --disabled-bg-color: #DDD;\n",
              "  }\n",
              "\n",
              "  [theme=dark] .colab-df-quickchart {\n",
              "      --bg-color: #3B4455;\n",
              "      --fill-color: #D2E3FC;\n",
              "      --hover-bg-color: #434B5C;\n",
              "      --hover-fill-color: #FFFFFF;\n",
              "      --disabled-bg-color: #3B4455;\n",
              "      --disabled-fill-color: #666;\n",
              "  }\n",
              "\n",
              "  .colab-df-quickchart {\n",
              "    background-color: var(--bg-color);\n",
              "    border: none;\n",
              "    border-radius: 50%;\n",
              "    cursor: pointer;\n",
              "    display: none;\n",
              "    fill: var(--fill-color);\n",
              "    height: 32px;\n",
              "    padding: 0;\n",
              "    width: 32px;\n",
              "  }\n",
              "\n",
              "  .colab-df-quickchart:hover {\n",
              "    background-color: var(--hover-bg-color);\n",
              "    box-shadow: 0 1px 2px rgba(60, 64, 67, 0.3), 0 1px 3px 1px rgba(60, 64, 67, 0.15);\n",
              "    fill: var(--button-hover-fill-color);\n",
              "  }\n",
              "\n",
              "  .colab-df-quickchart-complete:disabled,\n",
              "  .colab-df-quickchart-complete:disabled:hover {\n",
              "    background-color: var(--disabled-bg-color);\n",
              "    fill: var(--disabled-fill-color);\n",
              "    box-shadow: none;\n",
              "  }\n",
              "\n",
              "  .colab-df-spinner {\n",
              "    border: 2px solid var(--fill-color);\n",
              "    border-color: transparent;\n",
              "    border-bottom-color: var(--fill-color);\n",
              "    animation:\n",
              "      spin 1s steps(1) infinite;\n",
              "  }\n",
              "\n",
              "  @keyframes spin {\n",
              "    0% {\n",
              "      border-color: transparent;\n",
              "      border-bottom-color: var(--fill-color);\n",
              "      border-left-color: var(--fill-color);\n",
              "    }\n",
              "    20% {\n",
              "      border-color: transparent;\n",
              "      border-left-color: var(--fill-color);\n",
              "      border-top-color: var(--fill-color);\n",
              "    }\n",
              "    30% {\n",
              "      border-color: transparent;\n",
              "      border-left-color: var(--fill-color);\n",
              "      border-top-color: var(--fill-color);\n",
              "      border-right-color: var(--fill-color);\n",
              "    }\n",
              "    40% {\n",
              "      border-color: transparent;\n",
              "      border-right-color: var(--fill-color);\n",
              "      border-top-color: var(--fill-color);\n",
              "    }\n",
              "    60% {\n",
              "      border-color: transparent;\n",
              "      border-right-color: var(--fill-color);\n",
              "    }\n",
              "    80% {\n",
              "      border-color: transparent;\n",
              "      border-right-color: var(--fill-color);\n",
              "      border-bottom-color: var(--fill-color);\n",
              "    }\n",
              "    90% {\n",
              "      border-color: transparent;\n",
              "      border-bottom-color: var(--fill-color);\n",
              "    }\n",
              "  }\n",
              "</style>\n",
              "\n",
              "      <script>\n",
              "        async function quickchart(key) {\n",
              "          const quickchartButtonEl =\n",
              "            document.querySelector('#' + key + ' button');\n",
              "          quickchartButtonEl.disabled = true;  // To prevent multiple clicks.\n",
              "          quickchartButtonEl.classList.add('colab-df-spinner');\n",
              "          try {\n",
              "            const charts = await google.colab.kernel.invokeFunction(\n",
              "                'suggestCharts', [key], {});\n",
              "          } catch (error) {\n",
              "            console.error('Error during call to suggestCharts:', error);\n",
              "          }\n",
              "          quickchartButtonEl.classList.remove('colab-df-spinner');\n",
              "          quickchartButtonEl.classList.add('colab-df-quickchart-complete');\n",
              "        }\n",
              "        (() => {\n",
              "          let quickchartButtonEl =\n",
              "            document.querySelector('#df-95d7fa21-845f-4631-b314-08ab062e74c6 button');\n",
              "          quickchartButtonEl.style.display =\n",
              "            google.colab.kernel.accessAllowed ? 'block' : 'none';\n",
              "        })();\n",
              "      </script>\n",
              "    </div>\n",
              "\n",
              "    </div>\n",
              "  </div>\n"
            ],
            "application/vnd.google.colaboratory.intrinsic+json": {
              "type": "dataframe",
              "variable_name": "data"
            }
          },
          "metadata": {},
          "execution_count": 9
        }
      ]
    },
    {
      "cell_type": "code",
      "source": [
        "data.sample(5)"
      ],
      "metadata": {
        "colab": {
          "base_uri": "https://localhost:8080/",
          "height": 394
        },
        "id": "RG4j2vFfR5kE",
        "outputId": "4efd29ac-2c92-4dcb-e4de-06b13f3135fc"
      },
      "execution_count": 10,
      "outputs": [
        {
          "output_type": "execute_result",
          "data": {
            "text/plain": [
              "      iso2c  year                                            country iso3c  \\\n",
              "5592     ME  1982                                         Montenegro   MNE   \n",
              "8077     SK  2016                                    Slovak Republic   SVK   \n",
              "9786     VC  2005                     St. Vincent and the Grenadines   VCT   \n",
              "6927     PF  1984                                   French Polynesia   PYF   \n",
              "10691    XQ  2007  Middle East & North Africa (excluding high inc...   MNA   \n",
              "\n",
              "                 pop   labor_force            gdp_ppp_c              gdp_ppp  \\\n",
              "5592      587,001.00           NaN                  NaN                  NaN   \n",
              "8077    5,430,798.00  2,759,104.00   159,271,814,312.37   161,498,740,048.57   \n",
              "9786      112,043.00     51,342.00     1,209,473,205.74     1,010,325,161.84   \n",
              "6927      183,146.00           NaN                  NaN                  NaN   \n",
              "10691 324,080,392.00 98,965,837.00 3,153,909,131,117.07 3,303,073,739,149.04   \n",
              "\n",
              "                       gdp                gdp_c  ...     employed  \\\n",
              "5592                   NaN                  NaN  ...          NaN   \n",
              "8077     89,952,699,524.90    90,629,072,613.92  ... 2,321,049.00   \n",
              "9786        579,948,925.93       702,176,306.79  ...          NaN   \n",
              "6927      1,325,515,441.98     4,601,960,517.94  ...          NaN   \n",
              "10691 1,148,311,867,090.24 1,215,640,118,815.49  ...          NaN   \n",
              "\n",
              "       total_hours_alternative  gdp_over_k_hours_worked  \\\n",
              "5592                       NaN                      NaN   \n",
              "8077          4,404,853,701.58                22,272.95   \n",
              "9786                       NaN                      NaN   \n",
              "6927                       NaN                      NaN   \n",
              "10691                      NaN                      NaN   \n",
              "\n",
              "       gdp_ppp_over_k_hours_worked  gdp_over_pop  gdp_ppp_over_pop  \\\n",
              "5592                           NaN           NaN               NaN   \n",
              "8077                     39,988.28     16,563.44         29,737.57   \n",
              "9786                           NaN      5,176.13          9,017.30   \n",
              "6927                           NaN      7,237.48               NaN   \n",
              "10691                          NaN      3,543.29         10,192.14   \n",
              "\n",
              "       gdp_ppp_over_labor_force  gdp_ppp_over_pop_c  gdp_over_pop_c  \\\n",
              "5592                        NaN                 NaN             NaN   \n",
              "8077                  58,533.04           29,327.52       16,687.98   \n",
              "9786                  19,678.34           10,794.72        6,267.03   \n",
              "6927                        NaN                 NaN       25,127.28   \n",
              "10691                 33,375.90            9,731.87        3,751.04   \n",
              "\n",
              "       gdp_ppp_over_k_hours_worked_c  \n",
              "5592                             NaN  \n",
              "8077                       39,436.88  \n",
              "9786                             NaN  \n",
              "6927                             NaN  \n",
              "10691                            NaN  \n",
              "\n",
              "[5 rows x 27 columns]"
            ],
            "text/html": [
              "\n",
              "  <div id=\"df-88397829-8820-4a98-a24d-5118d27d5651\" class=\"colab-df-container\">\n",
              "    <div>\n",
              "<style scoped>\n",
              "    .dataframe tbody tr th:only-of-type {\n",
              "        vertical-align: middle;\n",
              "    }\n",
              "\n",
              "    .dataframe tbody tr th {\n",
              "        vertical-align: top;\n",
              "    }\n",
              "\n",
              "    .dataframe thead th {\n",
              "        text-align: right;\n",
              "    }\n",
              "</style>\n",
              "<table border=\"1\" class=\"dataframe\">\n",
              "  <thead>\n",
              "    <tr style=\"text-align: right;\">\n",
              "      <th></th>\n",
              "      <th>iso2c</th>\n",
              "      <th>year</th>\n",
              "      <th>country</th>\n",
              "      <th>iso3c</th>\n",
              "      <th>pop</th>\n",
              "      <th>labor_force</th>\n",
              "      <th>gdp_ppp_c</th>\n",
              "      <th>gdp_ppp</th>\n",
              "      <th>gdp</th>\n",
              "      <th>gdp_c</th>\n",
              "      <th>...</th>\n",
              "      <th>employed</th>\n",
              "      <th>total_hours_alternative</th>\n",
              "      <th>gdp_over_k_hours_worked</th>\n",
              "      <th>gdp_ppp_over_k_hours_worked</th>\n",
              "      <th>gdp_over_pop</th>\n",
              "      <th>gdp_ppp_over_pop</th>\n",
              "      <th>gdp_ppp_over_labor_force</th>\n",
              "      <th>gdp_ppp_over_pop_c</th>\n",
              "      <th>gdp_over_pop_c</th>\n",
              "      <th>gdp_ppp_over_k_hours_worked_c</th>\n",
              "    </tr>\n",
              "  </thead>\n",
              "  <tbody>\n",
              "    <tr>\n",
              "      <th>5592</th>\n",
              "      <td>ME</td>\n",
              "      <td>1982</td>\n",
              "      <td>Montenegro</td>\n",
              "      <td>MNE</td>\n",
              "      <td>587,001.00</td>\n",
              "      <td>NaN</td>\n",
              "      <td>NaN</td>\n",
              "      <td>NaN</td>\n",
              "      <td>NaN</td>\n",
              "      <td>NaN</td>\n",
              "      <td>...</td>\n",
              "      <td>NaN</td>\n",
              "      <td>NaN</td>\n",
              "      <td>NaN</td>\n",
              "      <td>NaN</td>\n",
              "      <td>NaN</td>\n",
              "      <td>NaN</td>\n",
              "      <td>NaN</td>\n",
              "      <td>NaN</td>\n",
              "      <td>NaN</td>\n",
              "      <td>NaN</td>\n",
              "    </tr>\n",
              "    <tr>\n",
              "      <th>8077</th>\n",
              "      <td>SK</td>\n",
              "      <td>2016</td>\n",
              "      <td>Slovak Republic</td>\n",
              "      <td>SVK</td>\n",
              "      <td>5,430,798.00</td>\n",
              "      <td>2,759,104.00</td>\n",
              "      <td>159,271,814,312.37</td>\n",
              "      <td>161,498,740,048.57</td>\n",
              "      <td>89,952,699,524.90</td>\n",
              "      <td>90,629,072,613.92</td>\n",
              "      <td>...</td>\n",
              "      <td>2,321,049.00</td>\n",
              "      <td>4,404,853,701.58</td>\n",
              "      <td>22,272.95</td>\n",
              "      <td>39,988.28</td>\n",
              "      <td>16,563.44</td>\n",
              "      <td>29,737.57</td>\n",
              "      <td>58,533.04</td>\n",
              "      <td>29,327.52</td>\n",
              "      <td>16,687.98</td>\n",
              "      <td>39,436.88</td>\n",
              "    </tr>\n",
              "    <tr>\n",
              "      <th>9786</th>\n",
              "      <td>VC</td>\n",
              "      <td>2005</td>\n",
              "      <td>St. Vincent and the Grenadines</td>\n",
              "      <td>VCT</td>\n",
              "      <td>112,043.00</td>\n",
              "      <td>51,342.00</td>\n",
              "      <td>1,209,473,205.74</td>\n",
              "      <td>1,010,325,161.84</td>\n",
              "      <td>579,948,925.93</td>\n",
              "      <td>702,176,306.79</td>\n",
              "      <td>...</td>\n",
              "      <td>NaN</td>\n",
              "      <td>NaN</td>\n",
              "      <td>NaN</td>\n",
              "      <td>NaN</td>\n",
              "      <td>5,176.13</td>\n",
              "      <td>9,017.30</td>\n",
              "      <td>19,678.34</td>\n",
              "      <td>10,794.72</td>\n",
              "      <td>6,267.03</td>\n",
              "      <td>NaN</td>\n",
              "    </tr>\n",
              "    <tr>\n",
              "      <th>6927</th>\n",
              "      <td>PF</td>\n",
              "      <td>1984</td>\n",
              "      <td>French Polynesia</td>\n",
              "      <td>PYF</td>\n",
              "      <td>183,146.00</td>\n",
              "      <td>NaN</td>\n",
              "      <td>NaN</td>\n",
              "      <td>NaN</td>\n",
              "      <td>1,325,515,441.98</td>\n",
              "      <td>4,601,960,517.94</td>\n",
              "      <td>...</td>\n",
              "      <td>NaN</td>\n",
              "      <td>NaN</td>\n",
              "      <td>NaN</td>\n",
              "      <td>NaN</td>\n",
              "      <td>7,237.48</td>\n",
              "      <td>NaN</td>\n",
              "      <td>NaN</td>\n",
              "      <td>NaN</td>\n",
              "      <td>25,127.28</td>\n",
              "      <td>NaN</td>\n",
              "    </tr>\n",
              "    <tr>\n",
              "      <th>10691</th>\n",
              "      <td>XQ</td>\n",
              "      <td>2007</td>\n",
              "      <td>Middle East &amp; North Africa (excluding high inc...</td>\n",
              "      <td>MNA</td>\n",
              "      <td>324,080,392.00</td>\n",
              "      <td>98,965,837.00</td>\n",
              "      <td>3,153,909,131,117.07</td>\n",
              "      <td>3,303,073,739,149.04</td>\n",
              "      <td>1,148,311,867,090.24</td>\n",
              "      <td>1,215,640,118,815.49</td>\n",
              "      <td>...</td>\n",
              "      <td>NaN</td>\n",
              "      <td>NaN</td>\n",
              "      <td>NaN</td>\n",
              "      <td>NaN</td>\n",
              "      <td>3,543.29</td>\n",
              "      <td>10,192.14</td>\n",
              "      <td>33,375.90</td>\n",
              "      <td>9,731.87</td>\n",
              "      <td>3,751.04</td>\n",
              "      <td>NaN</td>\n",
              "    </tr>\n",
              "  </tbody>\n",
              "</table>\n",
              "<p>5 rows × 27 columns</p>\n",
              "</div>\n",
              "    <div class=\"colab-df-buttons\">\n",
              "\n",
              "  <div class=\"colab-df-container\">\n",
              "    <button class=\"colab-df-convert\" onclick=\"convertToInteractive('df-88397829-8820-4a98-a24d-5118d27d5651')\"\n",
              "            title=\"Convert this dataframe to an interactive table.\"\n",
              "            style=\"display:none;\">\n",
              "\n",
              "  <svg xmlns=\"http://www.w3.org/2000/svg\" height=\"24px\" viewBox=\"0 -960 960 960\">\n",
              "    <path d=\"M120-120v-720h720v720H120Zm60-500h600v-160H180v160Zm220 220h160v-160H400v160Zm0 220h160v-160H400v160ZM180-400h160v-160H180v160Zm440 0h160v-160H620v160ZM180-180h160v-160H180v160Zm440 0h160v-160H620v160Z\"/>\n",
              "  </svg>\n",
              "    </button>\n",
              "\n",
              "  <style>\n",
              "    .colab-df-container {\n",
              "      display:flex;\n",
              "      gap: 12px;\n",
              "    }\n",
              "\n",
              "    .colab-df-convert {\n",
              "      background-color: #E8F0FE;\n",
              "      border: none;\n",
              "      border-radius: 50%;\n",
              "      cursor: pointer;\n",
              "      display: none;\n",
              "      fill: #1967D2;\n",
              "      height: 32px;\n",
              "      padding: 0 0 0 0;\n",
              "      width: 32px;\n",
              "    }\n",
              "\n",
              "    .colab-df-convert:hover {\n",
              "      background-color: #E2EBFA;\n",
              "      box-shadow: 0px 1px 2px rgba(60, 64, 67, 0.3), 0px 1px 3px 1px rgba(60, 64, 67, 0.15);\n",
              "      fill: #174EA6;\n",
              "    }\n",
              "\n",
              "    .colab-df-buttons div {\n",
              "      margin-bottom: 4px;\n",
              "    }\n",
              "\n",
              "    [theme=dark] .colab-df-convert {\n",
              "      background-color: #3B4455;\n",
              "      fill: #D2E3FC;\n",
              "    }\n",
              "\n",
              "    [theme=dark] .colab-df-convert:hover {\n",
              "      background-color: #434B5C;\n",
              "      box-shadow: 0px 1px 3px 1px rgba(0, 0, 0, 0.15);\n",
              "      filter: drop-shadow(0px 1px 2px rgba(0, 0, 0, 0.3));\n",
              "      fill: #FFFFFF;\n",
              "    }\n",
              "  </style>\n",
              "\n",
              "    <script>\n",
              "      const buttonEl =\n",
              "        document.querySelector('#df-88397829-8820-4a98-a24d-5118d27d5651 button.colab-df-convert');\n",
              "      buttonEl.style.display =\n",
              "        google.colab.kernel.accessAllowed ? 'block' : 'none';\n",
              "\n",
              "      async function convertToInteractive(key) {\n",
              "        const element = document.querySelector('#df-88397829-8820-4a98-a24d-5118d27d5651');\n",
              "        const dataTable =\n",
              "          await google.colab.kernel.invokeFunction('convertToInteractive',\n",
              "                                                    [key], {});\n",
              "        if (!dataTable) return;\n",
              "\n",
              "        const docLinkHtml = 'Like what you see? Visit the ' +\n",
              "          '<a target=\"_blank\" href=https://colab.research.google.com/notebooks/data_table.ipynb>data table notebook</a>'\n",
              "          + ' to learn more about interactive tables.';\n",
              "        element.innerHTML = '';\n",
              "        dataTable['output_type'] = 'display_data';\n",
              "        await google.colab.output.renderOutput(dataTable, element);\n",
              "        const docLink = document.createElement('div');\n",
              "        docLink.innerHTML = docLinkHtml;\n",
              "        element.appendChild(docLink);\n",
              "      }\n",
              "    </script>\n",
              "  </div>\n",
              "\n",
              "\n",
              "    <div id=\"df-0a44c185-8be1-4b0a-93ed-e4d90b7aa49b\">\n",
              "      <button class=\"colab-df-quickchart\" onclick=\"quickchart('df-0a44c185-8be1-4b0a-93ed-e4d90b7aa49b')\"\n",
              "                title=\"Suggest charts\"\n",
              "                style=\"display:none;\">\n",
              "\n",
              "<svg xmlns=\"http://www.w3.org/2000/svg\" height=\"24px\"viewBox=\"0 0 24 24\"\n",
              "     width=\"24px\">\n",
              "    <g>\n",
              "        <path d=\"M19 3H5c-1.1 0-2 .9-2 2v14c0 1.1.9 2 2 2h14c1.1 0 2-.9 2-2V5c0-1.1-.9-2-2-2zM9 17H7v-7h2v7zm4 0h-2V7h2v10zm4 0h-2v-4h2v4z\"/>\n",
              "    </g>\n",
              "</svg>\n",
              "      </button>\n",
              "\n",
              "<style>\n",
              "  .colab-df-quickchart {\n",
              "      --bg-color: #E8F0FE;\n",
              "      --fill-color: #1967D2;\n",
              "      --hover-bg-color: #E2EBFA;\n",
              "      --hover-fill-color: #174EA6;\n",
              "      --disabled-fill-color: #AAA;\n",
              "      --disabled-bg-color: #DDD;\n",
              "  }\n",
              "\n",
              "  [theme=dark] .colab-df-quickchart {\n",
              "      --bg-color: #3B4455;\n",
              "      --fill-color: #D2E3FC;\n",
              "      --hover-bg-color: #434B5C;\n",
              "      --hover-fill-color: #FFFFFF;\n",
              "      --disabled-bg-color: #3B4455;\n",
              "      --disabled-fill-color: #666;\n",
              "  }\n",
              "\n",
              "  .colab-df-quickchart {\n",
              "    background-color: var(--bg-color);\n",
              "    border: none;\n",
              "    border-radius: 50%;\n",
              "    cursor: pointer;\n",
              "    display: none;\n",
              "    fill: var(--fill-color);\n",
              "    height: 32px;\n",
              "    padding: 0;\n",
              "    width: 32px;\n",
              "  }\n",
              "\n",
              "  .colab-df-quickchart:hover {\n",
              "    background-color: var(--hover-bg-color);\n",
              "    box-shadow: 0 1px 2px rgba(60, 64, 67, 0.3), 0 1px 3px 1px rgba(60, 64, 67, 0.15);\n",
              "    fill: var(--button-hover-fill-color);\n",
              "  }\n",
              "\n",
              "  .colab-df-quickchart-complete:disabled,\n",
              "  .colab-df-quickchart-complete:disabled:hover {\n",
              "    background-color: var(--disabled-bg-color);\n",
              "    fill: var(--disabled-fill-color);\n",
              "    box-shadow: none;\n",
              "  }\n",
              "\n",
              "  .colab-df-spinner {\n",
              "    border: 2px solid var(--fill-color);\n",
              "    border-color: transparent;\n",
              "    border-bottom-color: var(--fill-color);\n",
              "    animation:\n",
              "      spin 1s steps(1) infinite;\n",
              "  }\n",
              "\n",
              "  @keyframes spin {\n",
              "    0% {\n",
              "      border-color: transparent;\n",
              "      border-bottom-color: var(--fill-color);\n",
              "      border-left-color: var(--fill-color);\n",
              "    }\n",
              "    20% {\n",
              "      border-color: transparent;\n",
              "      border-left-color: var(--fill-color);\n",
              "      border-top-color: var(--fill-color);\n",
              "    }\n",
              "    30% {\n",
              "      border-color: transparent;\n",
              "      border-left-color: var(--fill-color);\n",
              "      border-top-color: var(--fill-color);\n",
              "      border-right-color: var(--fill-color);\n",
              "    }\n",
              "    40% {\n",
              "      border-color: transparent;\n",
              "      border-right-color: var(--fill-color);\n",
              "      border-top-color: var(--fill-color);\n",
              "    }\n",
              "    60% {\n",
              "      border-color: transparent;\n",
              "      border-right-color: var(--fill-color);\n",
              "    }\n",
              "    80% {\n",
              "      border-color: transparent;\n",
              "      border-right-color: var(--fill-color);\n",
              "      border-bottom-color: var(--fill-color);\n",
              "    }\n",
              "    90% {\n",
              "      border-color: transparent;\n",
              "      border-bottom-color: var(--fill-color);\n",
              "    }\n",
              "  }\n",
              "</style>\n",
              "\n",
              "      <script>\n",
              "        async function quickchart(key) {\n",
              "          const quickchartButtonEl =\n",
              "            document.querySelector('#' + key + ' button');\n",
              "          quickchartButtonEl.disabled = true;  // To prevent multiple clicks.\n",
              "          quickchartButtonEl.classList.add('colab-df-spinner');\n",
              "          try {\n",
              "            const charts = await google.colab.kernel.invokeFunction(\n",
              "                'suggestCharts', [key], {});\n",
              "          } catch (error) {\n",
              "            console.error('Error during call to suggestCharts:', error);\n",
              "          }\n",
              "          quickchartButtonEl.classList.remove('colab-df-spinner');\n",
              "          quickchartButtonEl.classList.add('colab-df-quickchart-complete');\n",
              "        }\n",
              "        (() => {\n",
              "          let quickchartButtonEl =\n",
              "            document.querySelector('#df-0a44c185-8be1-4b0a-93ed-e4d90b7aa49b button');\n",
              "          quickchartButtonEl.style.display =\n",
              "            google.colab.kernel.accessAllowed ? 'block' : 'none';\n",
              "        })();\n",
              "      </script>\n",
              "    </div>\n",
              "\n",
              "    </div>\n",
              "  </div>\n"
            ],
            "application/vnd.google.colaboratory.intrinsic+json": {
              "type": "dataframe"
            }
          },
          "metadata": {},
          "execution_count": 10
        }
      ]
    },
    {
      "cell_type": "code",
      "source": [
        "print(data.duplicated().values.any())\n",
        "print(data.isna().values.any())\n",
        "print(data.isna().sum())"
      ],
      "metadata": {
        "colab": {
          "base_uri": "https://localhost:8080/"
        },
        "id": "CyxyLSxOTG6K",
        "outputId": "1268c8a4-64f3-48ff-e932-6fa94a16358c"
      },
      "execution_count": 11,
      "outputs": [
        {
          "output_type": "stream",
          "name": "stdout",
          "text": [
            "False\n",
            "True\n",
            "iso2c                              165\n",
            "year                                 0\n",
            "country                              0\n",
            "iso3c                              215\n",
            "pop                                 53\n",
            "labor_force                       3699\n",
            "gdp_ppp_c                         3786\n",
            "gdp_ppp                           3744\n",
            "gdp                               1238\n",
            "gdp_c                             1482\n",
            "unemployment_r                    3937\n",
            "pop_over_65                         43\n",
            "working_age_pop_pct               9324\n",
            "employment_rate                  10590\n",
            "hours_worked                      9948\n",
            "total_hours                       9840\n",
            "hours_per_employed                9842\n",
            "employed                          9842\n",
            "total_hours_alternative          10626\n",
            "gdp_over_k_hours_worked           9865\n",
            "gdp_ppp_over_k_hours_worked      10124\n",
            "gdp_over_pop                      1238\n",
            "gdp_ppp_over_pop                  3744\n",
            "gdp_ppp_over_labor_force          4256\n",
            "gdp_ppp_over_pop_c                3786\n",
            "gdp_over_pop_c                    1482\n",
            "gdp_ppp_over_k_hours_worked_c    10124\n",
            "dtype: int64\n"
          ]
        }
      ]
    },
    {
      "cell_type": "markdown",
      "source": [
        "### 📌 Note on Data Quality\n",
        "\n",
        "This dataset, though high-quality, contains several missing values (`NaN`) in columns such as labor force and total hours worked. This is expected in real-world data. We will:\n",
        "\n",
        "- Focus on columns that are relatively complete\n",
        "- Drop or fill NaNs depending on analysis needs\n",
        "- Document any imputation or exclusions we perform\n"
      ],
      "metadata": {
        "id": "K8W2evDvSnXo"
      }
    },
    {
      "cell_type": "markdown",
      "metadata": {
        "papermill": {
          "duration": 0.05406,
          "end_time": "2020-10-20T21:34:04.149973",
          "exception": false,
          "start_time": "2020-10-20T21:34:04.095913",
          "status": "completed"
        },
        "tags": [],
        "id": "KUN30y6ja-p9"
      },
      "source": [
        "## Data Cleaning - Check for Missing Values and Duplicates\n",
        "\n",
        "Consider removing columns containing junk data."
      ]
    },
    {
      "cell_type": "code",
      "source": [
        "# List of columns to remove\n",
        "cols_to_drop = [\n",
        "    'hours_worked',\n",
        "    'total_hours',\n",
        "    'hours_per_employed',\n",
        "    'total_hours_alternative',\n",
        "    'gdp_over_k_hours_worked',\n",
        "    'gdp_ppp_over_k_hours_worked',\n",
        "    'working_age_pop_pct',\n",
        "    'iso2c',\n",
        "    'iso3c',\n",
        "    'employed'\n",
        "]\n",
        "\n",
        "df_clean = data.drop(columns=cols_to_drop)\n",
        "\n",
        "\n",
        "\n"
      ],
      "metadata": {
        "id": "pU064f_OTfJk"
      },
      "execution_count": 12,
      "outputs": []
    },
    {
      "cell_type": "code",
      "source": [
        "df_clean.fillna(0, inplace=True)\n"
      ],
      "metadata": {
        "id": "VRBfNYiNTe_h"
      },
      "execution_count": 13,
      "outputs": []
    },
    {
      "cell_type": "code",
      "source": [
        "df_clean.head()"
      ],
      "metadata": {
        "colab": {
          "base_uri": "https://localhost:8080/",
          "height": 313
        },
        "id": "eUp_r4LZUMfa",
        "outputId": "666fd693-e12a-4996-8d8c-ea2f5c502d1a"
      },
      "execution_count": 14,
      "outputs": [
        {
          "output_type": "execute_result",
          "data": {
            "text/plain": [
              "   year     country            pop  labor_force  gdp_ppp_c  gdp_ppp  \\\n",
              "0  1980  Arab World 167,707,208.00         0.00       0.00     0.00   \n",
              "1  1981  Arab World 173,118,753.00         0.00       0.00     0.00   \n",
              "2  1982  Arab World 178,587,926.00         0.00       0.00     0.00   \n",
              "3  1983  Arab World 184,342,569.00         0.00       0.00     0.00   \n",
              "4  1984  Arab World 190,162,096.00         0.00       0.00     0.00   \n",
              "\n",
              "                 gdp              gdp_c  unemployment_r  pop_over_65  \\\n",
              "0 459,804,598,569.46 859,480,131,702.59            0.00         3.38   \n",
              "1 474,812,142,540.09 888,479,304,523.50            0.00         3.36   \n",
              "2 444,575,870,914.34 814,888,271,801.23            0.00         3.33   \n",
              "3 418,462,069,813.76 764,300,353,587.64            0.00         3.31   \n",
              "4 425,899,415,741.84 774,446,404,104.00            0.00         3.30   \n",
              "\n",
              "   employment_rate  gdp_over_pop  gdp_ppp_over_pop  gdp_ppp_over_labor_force  \\\n",
              "0             0.00      2,741.71              0.00                      0.00   \n",
              "1             0.00      2,742.70              0.00                      0.00   \n",
              "2             0.00      2,489.39              0.00                      0.00   \n",
              "3             0.00      2,270.02              0.00                      0.00   \n",
              "4             0.00      2,239.67              0.00                      0.00   \n",
              "\n",
              "   gdp_ppp_over_pop_c  gdp_over_pop_c  gdp_ppp_over_k_hours_worked_c  \n",
              "0                0.00        5,124.88                           0.00  \n",
              "1                0.00        5,132.20                           0.00  \n",
              "2                0.00        4,562.95                           0.00  \n",
              "3                0.00        4,146.09                           0.00  \n",
              "4                0.00        4,072.56                           0.00  "
            ],
            "text/html": [
              "\n",
              "  <div id=\"df-06e5870c-8dea-4446-a8b0-c50b38886f75\" class=\"colab-df-container\">\n",
              "    <div>\n",
              "<style scoped>\n",
              "    .dataframe tbody tr th:only-of-type {\n",
              "        vertical-align: middle;\n",
              "    }\n",
              "\n",
              "    .dataframe tbody tr th {\n",
              "        vertical-align: top;\n",
              "    }\n",
              "\n",
              "    .dataframe thead th {\n",
              "        text-align: right;\n",
              "    }\n",
              "</style>\n",
              "<table border=\"1\" class=\"dataframe\">\n",
              "  <thead>\n",
              "    <tr style=\"text-align: right;\">\n",
              "      <th></th>\n",
              "      <th>year</th>\n",
              "      <th>country</th>\n",
              "      <th>pop</th>\n",
              "      <th>labor_force</th>\n",
              "      <th>gdp_ppp_c</th>\n",
              "      <th>gdp_ppp</th>\n",
              "      <th>gdp</th>\n",
              "      <th>gdp_c</th>\n",
              "      <th>unemployment_r</th>\n",
              "      <th>pop_over_65</th>\n",
              "      <th>employment_rate</th>\n",
              "      <th>gdp_over_pop</th>\n",
              "      <th>gdp_ppp_over_pop</th>\n",
              "      <th>gdp_ppp_over_labor_force</th>\n",
              "      <th>gdp_ppp_over_pop_c</th>\n",
              "      <th>gdp_over_pop_c</th>\n",
              "      <th>gdp_ppp_over_k_hours_worked_c</th>\n",
              "    </tr>\n",
              "  </thead>\n",
              "  <tbody>\n",
              "    <tr>\n",
              "      <th>0</th>\n",
              "      <td>1980</td>\n",
              "      <td>Arab World</td>\n",
              "      <td>167,707,208.00</td>\n",
              "      <td>0.00</td>\n",
              "      <td>0.00</td>\n",
              "      <td>0.00</td>\n",
              "      <td>459,804,598,569.46</td>\n",
              "      <td>859,480,131,702.59</td>\n",
              "      <td>0.00</td>\n",
              "      <td>3.38</td>\n",
              "      <td>0.00</td>\n",
              "      <td>2,741.71</td>\n",
              "      <td>0.00</td>\n",
              "      <td>0.00</td>\n",
              "      <td>0.00</td>\n",
              "      <td>5,124.88</td>\n",
              "      <td>0.00</td>\n",
              "    </tr>\n",
              "    <tr>\n",
              "      <th>1</th>\n",
              "      <td>1981</td>\n",
              "      <td>Arab World</td>\n",
              "      <td>173,118,753.00</td>\n",
              "      <td>0.00</td>\n",
              "      <td>0.00</td>\n",
              "      <td>0.00</td>\n",
              "      <td>474,812,142,540.09</td>\n",
              "      <td>888,479,304,523.50</td>\n",
              "      <td>0.00</td>\n",
              "      <td>3.36</td>\n",
              "      <td>0.00</td>\n",
              "      <td>2,742.70</td>\n",
              "      <td>0.00</td>\n",
              "      <td>0.00</td>\n",
              "      <td>0.00</td>\n",
              "      <td>5,132.20</td>\n",
              "      <td>0.00</td>\n",
              "    </tr>\n",
              "    <tr>\n",
              "      <th>2</th>\n",
              "      <td>1982</td>\n",
              "      <td>Arab World</td>\n",
              "      <td>178,587,926.00</td>\n",
              "      <td>0.00</td>\n",
              "      <td>0.00</td>\n",
              "      <td>0.00</td>\n",
              "      <td>444,575,870,914.34</td>\n",
              "      <td>814,888,271,801.23</td>\n",
              "      <td>0.00</td>\n",
              "      <td>3.33</td>\n",
              "      <td>0.00</td>\n",
              "      <td>2,489.39</td>\n",
              "      <td>0.00</td>\n",
              "      <td>0.00</td>\n",
              "      <td>0.00</td>\n",
              "      <td>4,562.95</td>\n",
              "      <td>0.00</td>\n",
              "    </tr>\n",
              "    <tr>\n",
              "      <th>3</th>\n",
              "      <td>1983</td>\n",
              "      <td>Arab World</td>\n",
              "      <td>184,342,569.00</td>\n",
              "      <td>0.00</td>\n",
              "      <td>0.00</td>\n",
              "      <td>0.00</td>\n",
              "      <td>418,462,069,813.76</td>\n",
              "      <td>764,300,353,587.64</td>\n",
              "      <td>0.00</td>\n",
              "      <td>3.31</td>\n",
              "      <td>0.00</td>\n",
              "      <td>2,270.02</td>\n",
              "      <td>0.00</td>\n",
              "      <td>0.00</td>\n",
              "      <td>0.00</td>\n",
              "      <td>4,146.09</td>\n",
              "      <td>0.00</td>\n",
              "    </tr>\n",
              "    <tr>\n",
              "      <th>4</th>\n",
              "      <td>1984</td>\n",
              "      <td>Arab World</td>\n",
              "      <td>190,162,096.00</td>\n",
              "      <td>0.00</td>\n",
              "      <td>0.00</td>\n",
              "      <td>0.00</td>\n",
              "      <td>425,899,415,741.84</td>\n",
              "      <td>774,446,404,104.00</td>\n",
              "      <td>0.00</td>\n",
              "      <td>3.30</td>\n",
              "      <td>0.00</td>\n",
              "      <td>2,239.67</td>\n",
              "      <td>0.00</td>\n",
              "      <td>0.00</td>\n",
              "      <td>0.00</td>\n",
              "      <td>4,072.56</td>\n",
              "      <td>0.00</td>\n",
              "    </tr>\n",
              "  </tbody>\n",
              "</table>\n",
              "</div>\n",
              "    <div class=\"colab-df-buttons\">\n",
              "\n",
              "  <div class=\"colab-df-container\">\n",
              "    <button class=\"colab-df-convert\" onclick=\"convertToInteractive('df-06e5870c-8dea-4446-a8b0-c50b38886f75')\"\n",
              "            title=\"Convert this dataframe to an interactive table.\"\n",
              "            style=\"display:none;\">\n",
              "\n",
              "  <svg xmlns=\"http://www.w3.org/2000/svg\" height=\"24px\" viewBox=\"0 -960 960 960\">\n",
              "    <path d=\"M120-120v-720h720v720H120Zm60-500h600v-160H180v160Zm220 220h160v-160H400v160Zm0 220h160v-160H400v160ZM180-400h160v-160H180v160Zm440 0h160v-160H620v160ZM180-180h160v-160H180v160Zm440 0h160v-160H620v160Z\"/>\n",
              "  </svg>\n",
              "    </button>\n",
              "\n",
              "  <style>\n",
              "    .colab-df-container {\n",
              "      display:flex;\n",
              "      gap: 12px;\n",
              "    }\n",
              "\n",
              "    .colab-df-convert {\n",
              "      background-color: #E8F0FE;\n",
              "      border: none;\n",
              "      border-radius: 50%;\n",
              "      cursor: pointer;\n",
              "      display: none;\n",
              "      fill: #1967D2;\n",
              "      height: 32px;\n",
              "      padding: 0 0 0 0;\n",
              "      width: 32px;\n",
              "    }\n",
              "\n",
              "    .colab-df-convert:hover {\n",
              "      background-color: #E2EBFA;\n",
              "      box-shadow: 0px 1px 2px rgba(60, 64, 67, 0.3), 0px 1px 3px 1px rgba(60, 64, 67, 0.15);\n",
              "      fill: #174EA6;\n",
              "    }\n",
              "\n",
              "    .colab-df-buttons div {\n",
              "      margin-bottom: 4px;\n",
              "    }\n",
              "\n",
              "    [theme=dark] .colab-df-convert {\n",
              "      background-color: #3B4455;\n",
              "      fill: #D2E3FC;\n",
              "    }\n",
              "\n",
              "    [theme=dark] .colab-df-convert:hover {\n",
              "      background-color: #434B5C;\n",
              "      box-shadow: 0px 1px 3px 1px rgba(0, 0, 0, 0.15);\n",
              "      filter: drop-shadow(0px 1px 2px rgba(0, 0, 0, 0.3));\n",
              "      fill: #FFFFFF;\n",
              "    }\n",
              "  </style>\n",
              "\n",
              "    <script>\n",
              "      const buttonEl =\n",
              "        document.querySelector('#df-06e5870c-8dea-4446-a8b0-c50b38886f75 button.colab-df-convert');\n",
              "      buttonEl.style.display =\n",
              "        google.colab.kernel.accessAllowed ? 'block' : 'none';\n",
              "\n",
              "      async function convertToInteractive(key) {\n",
              "        const element = document.querySelector('#df-06e5870c-8dea-4446-a8b0-c50b38886f75');\n",
              "        const dataTable =\n",
              "          await google.colab.kernel.invokeFunction('convertToInteractive',\n",
              "                                                    [key], {});\n",
              "        if (!dataTable) return;\n",
              "\n",
              "        const docLinkHtml = 'Like what you see? Visit the ' +\n",
              "          '<a target=\"_blank\" href=https://colab.research.google.com/notebooks/data_table.ipynb>data table notebook</a>'\n",
              "          + ' to learn more about interactive tables.';\n",
              "        element.innerHTML = '';\n",
              "        dataTable['output_type'] = 'display_data';\n",
              "        await google.colab.output.renderOutput(dataTable, element);\n",
              "        const docLink = document.createElement('div');\n",
              "        docLink.innerHTML = docLinkHtml;\n",
              "        element.appendChild(docLink);\n",
              "      }\n",
              "    </script>\n",
              "  </div>\n",
              "\n",
              "\n",
              "    <div id=\"df-6514054f-99b4-4cd6-9558-049e5e8dda4e\">\n",
              "      <button class=\"colab-df-quickchart\" onclick=\"quickchart('df-6514054f-99b4-4cd6-9558-049e5e8dda4e')\"\n",
              "                title=\"Suggest charts\"\n",
              "                style=\"display:none;\">\n",
              "\n",
              "<svg xmlns=\"http://www.w3.org/2000/svg\" height=\"24px\"viewBox=\"0 0 24 24\"\n",
              "     width=\"24px\">\n",
              "    <g>\n",
              "        <path d=\"M19 3H5c-1.1 0-2 .9-2 2v14c0 1.1.9 2 2 2h14c1.1 0 2-.9 2-2V5c0-1.1-.9-2-2-2zM9 17H7v-7h2v7zm4 0h-2V7h2v10zm4 0h-2v-4h2v4z\"/>\n",
              "    </g>\n",
              "</svg>\n",
              "      </button>\n",
              "\n",
              "<style>\n",
              "  .colab-df-quickchart {\n",
              "      --bg-color: #E8F0FE;\n",
              "      --fill-color: #1967D2;\n",
              "      --hover-bg-color: #E2EBFA;\n",
              "      --hover-fill-color: #174EA6;\n",
              "      --disabled-fill-color: #AAA;\n",
              "      --disabled-bg-color: #DDD;\n",
              "  }\n",
              "\n",
              "  [theme=dark] .colab-df-quickchart {\n",
              "      --bg-color: #3B4455;\n",
              "      --fill-color: #D2E3FC;\n",
              "      --hover-bg-color: #434B5C;\n",
              "      --hover-fill-color: #FFFFFF;\n",
              "      --disabled-bg-color: #3B4455;\n",
              "      --disabled-fill-color: #666;\n",
              "  }\n",
              "\n",
              "  .colab-df-quickchart {\n",
              "    background-color: var(--bg-color);\n",
              "    border: none;\n",
              "    border-radius: 50%;\n",
              "    cursor: pointer;\n",
              "    display: none;\n",
              "    fill: var(--fill-color);\n",
              "    height: 32px;\n",
              "    padding: 0;\n",
              "    width: 32px;\n",
              "  }\n",
              "\n",
              "  .colab-df-quickchart:hover {\n",
              "    background-color: var(--hover-bg-color);\n",
              "    box-shadow: 0 1px 2px rgba(60, 64, 67, 0.3), 0 1px 3px 1px rgba(60, 64, 67, 0.15);\n",
              "    fill: var(--button-hover-fill-color);\n",
              "  }\n",
              "\n",
              "  .colab-df-quickchart-complete:disabled,\n",
              "  .colab-df-quickchart-complete:disabled:hover {\n",
              "    background-color: var(--disabled-bg-color);\n",
              "    fill: var(--disabled-fill-color);\n",
              "    box-shadow: none;\n",
              "  }\n",
              "\n",
              "  .colab-df-spinner {\n",
              "    border: 2px solid var(--fill-color);\n",
              "    border-color: transparent;\n",
              "    border-bottom-color: var(--fill-color);\n",
              "    animation:\n",
              "      spin 1s steps(1) infinite;\n",
              "  }\n",
              "\n",
              "  @keyframes spin {\n",
              "    0% {\n",
              "      border-color: transparent;\n",
              "      border-bottom-color: var(--fill-color);\n",
              "      border-left-color: var(--fill-color);\n",
              "    }\n",
              "    20% {\n",
              "      border-color: transparent;\n",
              "      border-left-color: var(--fill-color);\n",
              "      border-top-color: var(--fill-color);\n",
              "    }\n",
              "    30% {\n",
              "      border-color: transparent;\n",
              "      border-left-color: var(--fill-color);\n",
              "      border-top-color: var(--fill-color);\n",
              "      border-right-color: var(--fill-color);\n",
              "    }\n",
              "    40% {\n",
              "      border-color: transparent;\n",
              "      border-right-color: var(--fill-color);\n",
              "      border-top-color: var(--fill-color);\n",
              "    }\n",
              "    60% {\n",
              "      border-color: transparent;\n",
              "      border-right-color: var(--fill-color);\n",
              "    }\n",
              "    80% {\n",
              "      border-color: transparent;\n",
              "      border-right-color: var(--fill-color);\n",
              "      border-bottom-color: var(--fill-color);\n",
              "    }\n",
              "    90% {\n",
              "      border-color: transparent;\n",
              "      border-bottom-color: var(--fill-color);\n",
              "    }\n",
              "  }\n",
              "</style>\n",
              "\n",
              "      <script>\n",
              "        async function quickchart(key) {\n",
              "          const quickchartButtonEl =\n",
              "            document.querySelector('#' + key + ' button');\n",
              "          quickchartButtonEl.disabled = true;  // To prevent multiple clicks.\n",
              "          quickchartButtonEl.classList.add('colab-df-spinner');\n",
              "          try {\n",
              "            const charts = await google.colab.kernel.invokeFunction(\n",
              "                'suggestCharts', [key], {});\n",
              "          } catch (error) {\n",
              "            console.error('Error during call to suggestCharts:', error);\n",
              "          }\n",
              "          quickchartButtonEl.classList.remove('colab-df-spinner');\n",
              "          quickchartButtonEl.classList.add('colab-df-quickchart-complete');\n",
              "        }\n",
              "        (() => {\n",
              "          let quickchartButtonEl =\n",
              "            document.querySelector('#df-6514054f-99b4-4cd6-9558-049e5e8dda4e button');\n",
              "          quickchartButtonEl.style.display =\n",
              "            google.colab.kernel.accessAllowed ? 'block' : 'none';\n",
              "        })();\n",
              "      </script>\n",
              "    </div>\n",
              "\n",
              "    </div>\n",
              "  </div>\n"
            ],
            "application/vnd.google.colaboratory.intrinsic+json": {
              "type": "dataframe",
              "variable_name": "df_clean",
              "summary": "{\n  \"name\": \"df_clean\",\n  \"rows\": 11560,\n  \"fields\": [\n    {\n      \"column\": \"year\",\n      \"properties\": {\n        \"dtype\": \"number\",\n        \"std\": 12,\n        \"min\": 1980,\n        \"max\": 2022,\n        \"num_unique_values\": 43,\n        \"samples\": [\n          2017,\n          2004,\n          2005\n        ],\n        \"semantic_type\": \"\",\n        \"description\": \"\"\n      }\n    },\n    {\n      \"column\": \"country\",\n      \"properties\": {\n        \"dtype\": \"category\",\n        \"num_unique_values\": 266,\n        \"samples\": [\n          \"Solomon Islands\",\n          \"Liechtenstein\",\n          \"Northern Mariana Islands\"\n        ],\n        \"semantic_type\": \"\",\n        \"description\": \"\"\n      }\n    },\n    {\n      \"column\": \"pop\",\n      \"properties\": {\n        \"dtype\": \"number\",\n        \"std\": 793759662.965047,\n        \"min\": 0.0,\n        \"max\": 7951149546.0,\n        \"num_unique_values\": 11273,\n        \"samples\": [\n          9642505.0,\n          45285048.0,\n          349770162.0\n        ],\n        \"semantic_type\": \"\",\n        \"description\": \"\"\n      }\n    },\n    {\n      \"column\": \"labor_force\",\n      \"properties\": {\n        \"dtype\": \"number\",\n        \"std\": 332784037.2547819,\n        \"min\": 0.0,\n        \"max\": 3455348900.0,\n        \"num_unique_values\": 7648,\n        \"samples\": [\n          2112205.0,\n          2356627.0,\n          24509227.0\n        ],\n        \"semantic_type\": \"\",\n        \"description\": \"\"\n      }\n    },\n    {\n      \"column\": \"gdp_ppp_c\",\n      \"properties\": {\n        \"dtype\": \"number\",\n        \"std\": 8781100334279.984,\n        \"min\": 0.0,\n        \"max\": 139033278700565.0,\n        \"num_unique_values\": 7589,\n        \"samples\": [\n          639651353355.825,\n          24251977947.9345,\n          71222678748.0526\n        ],\n        \"semantic_type\": \"\",\n        \"description\": \"\"\n      }\n    },\n    {\n      \"column\": \"gdp_ppp\",\n      \"properties\": {\n        \"dtype\": \"number\",\n        \"std\": 8399317532097.995,\n        \"min\": 0.0,\n        \"max\": 164155327257670.0,\n        \"num_unique_values\": 7646,\n        \"samples\": [\n          800036561.641111,\n          66270586755.2437,\n          422085446709.169\n        ],\n        \"semantic_type\": \"\",\n        \"description\": \"\"\n      }\n    },\n    {\n      \"column\": \"gdp\",\n      \"properties\": {\n        \"dtype\": \"number\",\n        \"std\": 5797510026386.765,\n        \"min\": 0.0,\n        \"max\": 100562011134034.0,\n        \"num_unique_values\": 10116,\n        \"samples\": [\n          5776761011405.62,\n          2824081836.19867,\n          5236438000000.0\n        ],\n        \"semantic_type\": \"\",\n        \"description\": \"\"\n      }\n    },\n    {\n      \"column\": \"gdp_c\",\n      \"properties\": {\n        \"dtype\": \"number\",\n        \"std\": 6063095540704.187,\n        \"min\": 0.0,\n        \"max\": 89745805690958.1,\n        \"num_unique_values\": 9862,\n        \"samples\": [\n          6411244256398.96,\n          470325565798.353,\n          940017142367.961\n        ],\n        \"semantic_type\": \"\",\n        \"description\": \"\"\n      }\n    },\n    {\n      \"column\": \"unemployment_r\",\n      \"properties\": {\n        \"dtype\": \"number\",\n        \"std\": 6.013060899881055,\n        \"min\": 0.0,\n        \"max\": 38.8,\n        \"num_unique_values\": 5307,\n        \"samples\": [\n          7.65,\n          10.208993583253,\n          11.311\n        ],\n        \"semantic_type\": \"\",\n        \"description\": \"\"\n      }\n    },\n    {\n      \"column\": \"pop_over_65\",\n      \"properties\": {\n        \"dtype\": \"number\",\n        \"std\": 5.058863898771615,\n        \"min\": 0.0,\n        \"max\": 35.9701248432645,\n        \"num_unique_values\": 11305,\n        \"samples\": [\n          10.4356507369675,\n          3.31641956445838,\n          15.2100246411411\n        ],\n        \"semantic_type\": \"\",\n        \"description\": \"\"\n      }\n    },\n    {\n      \"column\": \"employment_rate\",\n      \"properties\": {\n        \"dtype\": \"number\",\n        \"std\": 18.619341518467333,\n        \"min\": 0.0,\n        \"max\": 86.525,\n        \"num_unique_values\": 814,\n        \"samples\": [\n          61.325,\n          78.7,\n          76.875\n        ],\n        \"semantic_type\": \"\",\n        \"description\": \"\"\n      }\n    },\n    {\n      \"column\": \"gdp_over_pop\",\n      \"properties\": {\n        \"dtype\": \"number\",\n        \"std\": 17834.372508330835,\n        \"min\": 0.0,\n        \"max\": 234317.08481827597,\n        \"num_unique_values\": 10118,\n        \"samples\": [\n          2156.090141687412,\n          298.2498816117877,\n          1625.7625757034546\n        ],\n        \"semantic_type\": \"\",\n        \"description\": \"\"\n      }\n    },\n    {\n      \"column\": \"gdp_ppp_over_pop\",\n      \"properties\": {\n        \"dtype\": \"number\",\n        \"std\": 16544.48226834051,\n        \"min\": 0.0,\n        \"max\": 163219.4919900087,\n        \"num_unique_values\": 7646,\n        \"samples\": [\n          17175.53803437336,\n          20721.013196121137,\n          9695.62646494158\n        ],\n        \"semantic_type\": \"\",\n        \"description\": \"\"\n      }\n    },\n    {\n      \"column\": \"gdp_ppp_over_labor_force\",\n      \"properties\": {\n        \"dtype\": \"number\",\n        \"std\": 30852.830979313774,\n        \"min\": 0.0,\n        \"max\": 274446.3634133536,\n        \"num_unique_values\": 7134,\n        \"samples\": [\n          59558.545605262094,\n          22230.75677538401,\n          9138.943616639132\n        ],\n        \"semantic_type\": \"\",\n        \"description\": \"\"\n      }\n    },\n    {\n      \"column\": \"gdp_ppp_over_pop_c\",\n      \"properties\": {\n        \"dtype\": \"number\",\n        \"std\": 17676.757410024908,\n        \"min\": 0.0,\n        \"max\": 157602.48254590173,\n        \"num_unique_values\": 7601,\n        \"samples\": [\n          9440.727695727162,\n          4311.4468373407,\n          7044.686825004519\n        ],\n        \"semantic_type\": \"\",\n        \"description\": \"\"\n      }\n    },\n    {\n      \"column\": \"gdp_over_pop_c\",\n      \"properties\": {\n        \"dtype\": \"number\",\n        \"std\": 17951.565445697335,\n        \"min\": 0.0,\n        \"max\": 204190.97340701165,\n        \"num_unique_values\": 9882,\n        \"samples\": [\n          518.3842919045278,\n          570.4195742364144,\n          874.9861536118568\n        ],\n        \"semantic_type\": \"\",\n        \"description\": \"\"\n      }\n    },\n    {\n      \"column\": \"gdp_ppp_over_k_hours_worked_c\",\n      \"properties\": {\n        \"dtype\": \"number\",\n        \"std\": 16186.00163594517,\n        \"min\": 0.0,\n        \"max\": 137222.25400576208,\n        \"num_unique_values\": 1437,\n        \"samples\": [\n          38366.75412410834,\n          30913.53763202624,\n          41011.34838744201\n        ],\n        \"semantic_type\": \"\",\n        \"description\": \"\"\n      }\n    }\n  ]\n}"
            }
          },
          "metadata": {},
          "execution_count": 14
        }
      ]
    },
    {
      "cell_type": "markdown",
      "metadata": {
        "papermill": {
          "duration": 0.036712,
          "end_time": "2020-10-20T21:34:05.227032",
          "exception": false,
          "start_time": "2020-10-20T21:34:05.190320",
          "status": "completed"
        },
        "tags": [],
        "id": "QHon_T5sa-p_"
      },
      "source": [
        "## Descriptive Statistics"
      ]
    },
    {
      "cell_type": "code",
      "source": [
        "df_clean.describe()"
      ],
      "metadata": {
        "colab": {
          "base_uri": "https://localhost:8080/",
          "height": 320
        },
        "id": "VY3WJacETg1a",
        "outputId": "41aa3c9e-c4c1-4060-aa1e-234e726274a7"
      },
      "execution_count": 15,
      "outputs": [
        {
          "output_type": "execute_result",
          "data": {
            "text/plain": [
              "           year              pop      labor_force              gdp_ppp_c  \\\n",
              "count 11,560.00        11,560.00        11,560.00              11,560.00   \n",
              "mean   2,001.06   246,009,797.31    88,687,521.12   2,206,342,651,432.16   \n",
              "std       12.40   793,759,662.97   332,784,037.25   8,781,100,334,279.98   \n",
              "min    1,980.00             0.00             0.00                   0.00   \n",
              "25%    1,990.00     1,243,764.50             0.00                   0.00   \n",
              "50%    2,001.00     7,697,828.00     1,372,777.00      18,579,942,494.80   \n",
              "75%    2,012.00    50,204,436.00    10,350,020.50     316,424,710,169.44   \n",
              "max    2,022.00 7,951,149,546.00 3,455,348,900.00 139,033,278,700,565.00   \n",
              "\n",
              "                     gdp_ppp                    gdp                 gdp_c  \\\n",
              "count              11,560.00              11,560.00             11,560.00   \n",
              "mean    1,985,813,036,030.53   1,345,644,547,039.52  1,557,748,892,937.15   \n",
              "std     8,399,317,532,098.00   5,797,510,026,386.76  6,063,095,540,704.19   \n",
              "min                     0.00                   0.00                  0.00   \n",
              "25%                     0.00       1,756,158,202.77      2,402,765,174.79   \n",
              "50%        15,059,613,524.04      14,954,321,798.54     19,990,847,225.34   \n",
              "75%       264,614,327,961.94     239,641,880,124.14    317,810,246,920.25   \n",
              "max   164,155,327,257,670.00 100,562,011,134,034.00 89,745,805,690,958.09   \n",
              "\n",
              "       unemployment_r  pop_over_65  employment_rate  gdp_over_pop  \\\n",
              "count       11,560.00    11,560.00        11,560.00     11,560.00   \n",
              "mean             5.32         7.07             5.59      9,343.17   \n",
              "std              6.01         5.06            18.62     17,834.37   \n",
              "min              0.00         0.00             0.00          0.00   \n",
              "25%              0.00         3.28             0.00        616.96   \n",
              "50%              4.07         4.90             0.00      2,257.69   \n",
              "75%              8.05        10.11             0.00      9,425.79   \n",
              "max             38.80        35.97            86.53    234,317.08   \n",
              "\n",
              "       gdp_ppp_over_pop  gdp_ppp_over_labor_force  gdp_ppp_over_pop_c  \\\n",
              "count         11,560.00                 11,560.00           11,560.00   \n",
              "mean          10,061.74                 19,891.47           11,462.49   \n",
              "std           16,544.48                 30,852.83           17,676.76   \n",
              "min                0.00                      0.00                0.00   \n",
              "25%                0.00                      0.00                0.00   \n",
              "50%            3,190.67                  6,656.54            3,796.19   \n",
              "75%           12,392.93                 26,740.16           14,211.12   \n",
              "max          163,219.49                274,446.36          157,602.48   \n",
              "\n",
              "       gdp_over_pop_c  gdp_ppp_over_k_hours_worked_c  \n",
              "count       11,560.00                      11,560.00  \n",
              "mean        10,490.28                       5,149.06  \n",
              "std         17,951.57                      16,186.00  \n",
              "min              0.00                           0.00  \n",
              "25%            896.65                           0.00  \n",
              "50%          3,147.21                           0.00  \n",
              "75%         10,731.24                           0.00  \n",
              "max        204,190.97                     137,222.25  "
            ],
            "text/html": [
              "\n",
              "  <div id=\"df-59bf6d6b-e5fb-4dc8-941a-00888323bb7a\" class=\"colab-df-container\">\n",
              "    <div>\n",
              "<style scoped>\n",
              "    .dataframe tbody tr th:only-of-type {\n",
              "        vertical-align: middle;\n",
              "    }\n",
              "\n",
              "    .dataframe tbody tr th {\n",
              "        vertical-align: top;\n",
              "    }\n",
              "\n",
              "    .dataframe thead th {\n",
              "        text-align: right;\n",
              "    }\n",
              "</style>\n",
              "<table border=\"1\" class=\"dataframe\">\n",
              "  <thead>\n",
              "    <tr style=\"text-align: right;\">\n",
              "      <th></th>\n",
              "      <th>year</th>\n",
              "      <th>pop</th>\n",
              "      <th>labor_force</th>\n",
              "      <th>gdp_ppp_c</th>\n",
              "      <th>gdp_ppp</th>\n",
              "      <th>gdp</th>\n",
              "      <th>gdp_c</th>\n",
              "      <th>unemployment_r</th>\n",
              "      <th>pop_over_65</th>\n",
              "      <th>employment_rate</th>\n",
              "      <th>gdp_over_pop</th>\n",
              "      <th>gdp_ppp_over_pop</th>\n",
              "      <th>gdp_ppp_over_labor_force</th>\n",
              "      <th>gdp_ppp_over_pop_c</th>\n",
              "      <th>gdp_over_pop_c</th>\n",
              "      <th>gdp_ppp_over_k_hours_worked_c</th>\n",
              "    </tr>\n",
              "  </thead>\n",
              "  <tbody>\n",
              "    <tr>\n",
              "      <th>count</th>\n",
              "      <td>11,560.00</td>\n",
              "      <td>11,560.00</td>\n",
              "      <td>11,560.00</td>\n",
              "      <td>11,560.00</td>\n",
              "      <td>11,560.00</td>\n",
              "      <td>11,560.00</td>\n",
              "      <td>11,560.00</td>\n",
              "      <td>11,560.00</td>\n",
              "      <td>11,560.00</td>\n",
              "      <td>11,560.00</td>\n",
              "      <td>11,560.00</td>\n",
              "      <td>11,560.00</td>\n",
              "      <td>11,560.00</td>\n",
              "      <td>11,560.00</td>\n",
              "      <td>11,560.00</td>\n",
              "      <td>11,560.00</td>\n",
              "    </tr>\n",
              "    <tr>\n",
              "      <th>mean</th>\n",
              "      <td>2,001.06</td>\n",
              "      <td>246,009,797.31</td>\n",
              "      <td>88,687,521.12</td>\n",
              "      <td>2,206,342,651,432.16</td>\n",
              "      <td>1,985,813,036,030.53</td>\n",
              "      <td>1,345,644,547,039.52</td>\n",
              "      <td>1,557,748,892,937.15</td>\n",
              "      <td>5.32</td>\n",
              "      <td>7.07</td>\n",
              "      <td>5.59</td>\n",
              "      <td>9,343.17</td>\n",
              "      <td>10,061.74</td>\n",
              "      <td>19,891.47</td>\n",
              "      <td>11,462.49</td>\n",
              "      <td>10,490.28</td>\n",
              "      <td>5,149.06</td>\n",
              "    </tr>\n",
              "    <tr>\n",
              "      <th>std</th>\n",
              "      <td>12.40</td>\n",
              "      <td>793,759,662.97</td>\n",
              "      <td>332,784,037.25</td>\n",
              "      <td>8,781,100,334,279.98</td>\n",
              "      <td>8,399,317,532,098.00</td>\n",
              "      <td>5,797,510,026,386.76</td>\n",
              "      <td>6,063,095,540,704.19</td>\n",
              "      <td>6.01</td>\n",
              "      <td>5.06</td>\n",
              "      <td>18.62</td>\n",
              "      <td>17,834.37</td>\n",
              "      <td>16,544.48</td>\n",
              "      <td>30,852.83</td>\n",
              "      <td>17,676.76</td>\n",
              "      <td>17,951.57</td>\n",
              "      <td>16,186.00</td>\n",
              "    </tr>\n",
              "    <tr>\n",
              "      <th>min</th>\n",
              "      <td>1,980.00</td>\n",
              "      <td>0.00</td>\n",
              "      <td>0.00</td>\n",
              "      <td>0.00</td>\n",
              "      <td>0.00</td>\n",
              "      <td>0.00</td>\n",
              "      <td>0.00</td>\n",
              "      <td>0.00</td>\n",
              "      <td>0.00</td>\n",
              "      <td>0.00</td>\n",
              "      <td>0.00</td>\n",
              "      <td>0.00</td>\n",
              "      <td>0.00</td>\n",
              "      <td>0.00</td>\n",
              "      <td>0.00</td>\n",
              "      <td>0.00</td>\n",
              "    </tr>\n",
              "    <tr>\n",
              "      <th>25%</th>\n",
              "      <td>1,990.00</td>\n",
              "      <td>1,243,764.50</td>\n",
              "      <td>0.00</td>\n",
              "      <td>0.00</td>\n",
              "      <td>0.00</td>\n",
              "      <td>1,756,158,202.77</td>\n",
              "      <td>2,402,765,174.79</td>\n",
              "      <td>0.00</td>\n",
              "      <td>3.28</td>\n",
              "      <td>0.00</td>\n",
              "      <td>616.96</td>\n",
              "      <td>0.00</td>\n",
              "      <td>0.00</td>\n",
              "      <td>0.00</td>\n",
              "      <td>896.65</td>\n",
              "      <td>0.00</td>\n",
              "    </tr>\n",
              "    <tr>\n",
              "      <th>50%</th>\n",
              "      <td>2,001.00</td>\n",
              "      <td>7,697,828.00</td>\n",
              "      <td>1,372,777.00</td>\n",
              "      <td>18,579,942,494.80</td>\n",
              "      <td>15,059,613,524.04</td>\n",
              "      <td>14,954,321,798.54</td>\n",
              "      <td>19,990,847,225.34</td>\n",
              "      <td>4.07</td>\n",
              "      <td>4.90</td>\n",
              "      <td>0.00</td>\n",
              "      <td>2,257.69</td>\n",
              "      <td>3,190.67</td>\n",
              "      <td>6,656.54</td>\n",
              "      <td>3,796.19</td>\n",
              "      <td>3,147.21</td>\n",
              "      <td>0.00</td>\n",
              "    </tr>\n",
              "    <tr>\n",
              "      <th>75%</th>\n",
              "      <td>2,012.00</td>\n",
              "      <td>50,204,436.00</td>\n",
              "      <td>10,350,020.50</td>\n",
              "      <td>316,424,710,169.44</td>\n",
              "      <td>264,614,327,961.94</td>\n",
              "      <td>239,641,880,124.14</td>\n",
              "      <td>317,810,246,920.25</td>\n",
              "      <td>8.05</td>\n",
              "      <td>10.11</td>\n",
              "      <td>0.00</td>\n",
              "      <td>9,425.79</td>\n",
              "      <td>12,392.93</td>\n",
              "      <td>26,740.16</td>\n",
              "      <td>14,211.12</td>\n",
              "      <td>10,731.24</td>\n",
              "      <td>0.00</td>\n",
              "    </tr>\n",
              "    <tr>\n",
              "      <th>max</th>\n",
              "      <td>2,022.00</td>\n",
              "      <td>7,951,149,546.00</td>\n",
              "      <td>3,455,348,900.00</td>\n",
              "      <td>139,033,278,700,565.00</td>\n",
              "      <td>164,155,327,257,670.00</td>\n",
              "      <td>100,562,011,134,034.00</td>\n",
              "      <td>89,745,805,690,958.09</td>\n",
              "      <td>38.80</td>\n",
              "      <td>35.97</td>\n",
              "      <td>86.53</td>\n",
              "      <td>234,317.08</td>\n",
              "      <td>163,219.49</td>\n",
              "      <td>274,446.36</td>\n",
              "      <td>157,602.48</td>\n",
              "      <td>204,190.97</td>\n",
              "      <td>137,222.25</td>\n",
              "    </tr>\n",
              "  </tbody>\n",
              "</table>\n",
              "</div>\n",
              "    <div class=\"colab-df-buttons\">\n",
              "\n",
              "  <div class=\"colab-df-container\">\n",
              "    <button class=\"colab-df-convert\" onclick=\"convertToInteractive('df-59bf6d6b-e5fb-4dc8-941a-00888323bb7a')\"\n",
              "            title=\"Convert this dataframe to an interactive table.\"\n",
              "            style=\"display:none;\">\n",
              "\n",
              "  <svg xmlns=\"http://www.w3.org/2000/svg\" height=\"24px\" viewBox=\"0 -960 960 960\">\n",
              "    <path d=\"M120-120v-720h720v720H120Zm60-500h600v-160H180v160Zm220 220h160v-160H400v160Zm0 220h160v-160H400v160ZM180-400h160v-160H180v160Zm440 0h160v-160H620v160ZM180-180h160v-160H180v160Zm440 0h160v-160H620v160Z\"/>\n",
              "  </svg>\n",
              "    </button>\n",
              "\n",
              "  <style>\n",
              "    .colab-df-container {\n",
              "      display:flex;\n",
              "      gap: 12px;\n",
              "    }\n",
              "\n",
              "    .colab-df-convert {\n",
              "      background-color: #E8F0FE;\n",
              "      border: none;\n",
              "      border-radius: 50%;\n",
              "      cursor: pointer;\n",
              "      display: none;\n",
              "      fill: #1967D2;\n",
              "      height: 32px;\n",
              "      padding: 0 0 0 0;\n",
              "      width: 32px;\n",
              "    }\n",
              "\n",
              "    .colab-df-convert:hover {\n",
              "      background-color: #E2EBFA;\n",
              "      box-shadow: 0px 1px 2px rgba(60, 64, 67, 0.3), 0px 1px 3px 1px rgba(60, 64, 67, 0.15);\n",
              "      fill: #174EA6;\n",
              "    }\n",
              "\n",
              "    .colab-df-buttons div {\n",
              "      margin-bottom: 4px;\n",
              "    }\n",
              "\n",
              "    [theme=dark] .colab-df-convert {\n",
              "      background-color: #3B4455;\n",
              "      fill: #D2E3FC;\n",
              "    }\n",
              "\n",
              "    [theme=dark] .colab-df-convert:hover {\n",
              "      background-color: #434B5C;\n",
              "      box-shadow: 0px 1px 3px 1px rgba(0, 0, 0, 0.15);\n",
              "      filter: drop-shadow(0px 1px 2px rgba(0, 0, 0, 0.3));\n",
              "      fill: #FFFFFF;\n",
              "    }\n",
              "  </style>\n",
              "\n",
              "    <script>\n",
              "      const buttonEl =\n",
              "        document.querySelector('#df-59bf6d6b-e5fb-4dc8-941a-00888323bb7a button.colab-df-convert');\n",
              "      buttonEl.style.display =\n",
              "        google.colab.kernel.accessAllowed ? 'block' : 'none';\n",
              "\n",
              "      async function convertToInteractive(key) {\n",
              "        const element = document.querySelector('#df-59bf6d6b-e5fb-4dc8-941a-00888323bb7a');\n",
              "        const dataTable =\n",
              "          await google.colab.kernel.invokeFunction('convertToInteractive',\n",
              "                                                    [key], {});\n",
              "        if (!dataTable) return;\n",
              "\n",
              "        const docLinkHtml = 'Like what you see? Visit the ' +\n",
              "          '<a target=\"_blank\" href=https://colab.research.google.com/notebooks/data_table.ipynb>data table notebook</a>'\n",
              "          + ' to learn more about interactive tables.';\n",
              "        element.innerHTML = '';\n",
              "        dataTable['output_type'] = 'display_data';\n",
              "        await google.colab.output.renderOutput(dataTable, element);\n",
              "        const docLink = document.createElement('div');\n",
              "        docLink.innerHTML = docLinkHtml;\n",
              "        element.appendChild(docLink);\n",
              "      }\n",
              "    </script>\n",
              "  </div>\n",
              "\n",
              "\n",
              "    <div id=\"df-a20a30f9-2a54-4413-9aa9-49d5dc0cdc09\">\n",
              "      <button class=\"colab-df-quickchart\" onclick=\"quickchart('df-a20a30f9-2a54-4413-9aa9-49d5dc0cdc09')\"\n",
              "                title=\"Suggest charts\"\n",
              "                style=\"display:none;\">\n",
              "\n",
              "<svg xmlns=\"http://www.w3.org/2000/svg\" height=\"24px\"viewBox=\"0 0 24 24\"\n",
              "     width=\"24px\">\n",
              "    <g>\n",
              "        <path d=\"M19 3H5c-1.1 0-2 .9-2 2v14c0 1.1.9 2 2 2h14c1.1 0 2-.9 2-2V5c0-1.1-.9-2-2-2zM9 17H7v-7h2v7zm4 0h-2V7h2v10zm4 0h-2v-4h2v4z\"/>\n",
              "    </g>\n",
              "</svg>\n",
              "      </button>\n",
              "\n",
              "<style>\n",
              "  .colab-df-quickchart {\n",
              "      --bg-color: #E8F0FE;\n",
              "      --fill-color: #1967D2;\n",
              "      --hover-bg-color: #E2EBFA;\n",
              "      --hover-fill-color: #174EA6;\n",
              "      --disabled-fill-color: #AAA;\n",
              "      --disabled-bg-color: #DDD;\n",
              "  }\n",
              "\n",
              "  [theme=dark] .colab-df-quickchart {\n",
              "      --bg-color: #3B4455;\n",
              "      --fill-color: #D2E3FC;\n",
              "      --hover-bg-color: #434B5C;\n",
              "      --hover-fill-color: #FFFFFF;\n",
              "      --disabled-bg-color: #3B4455;\n",
              "      --disabled-fill-color: #666;\n",
              "  }\n",
              "\n",
              "  .colab-df-quickchart {\n",
              "    background-color: var(--bg-color);\n",
              "    border: none;\n",
              "    border-radius: 50%;\n",
              "    cursor: pointer;\n",
              "    display: none;\n",
              "    fill: var(--fill-color);\n",
              "    height: 32px;\n",
              "    padding: 0;\n",
              "    width: 32px;\n",
              "  }\n",
              "\n",
              "  .colab-df-quickchart:hover {\n",
              "    background-color: var(--hover-bg-color);\n",
              "    box-shadow: 0 1px 2px rgba(60, 64, 67, 0.3), 0 1px 3px 1px rgba(60, 64, 67, 0.15);\n",
              "    fill: var(--button-hover-fill-color);\n",
              "  }\n",
              "\n",
              "  .colab-df-quickchart-complete:disabled,\n",
              "  .colab-df-quickchart-complete:disabled:hover {\n",
              "    background-color: var(--disabled-bg-color);\n",
              "    fill: var(--disabled-fill-color);\n",
              "    box-shadow: none;\n",
              "  }\n",
              "\n",
              "  .colab-df-spinner {\n",
              "    border: 2px solid var(--fill-color);\n",
              "    border-color: transparent;\n",
              "    border-bottom-color: var(--fill-color);\n",
              "    animation:\n",
              "      spin 1s steps(1) infinite;\n",
              "  }\n",
              "\n",
              "  @keyframes spin {\n",
              "    0% {\n",
              "      border-color: transparent;\n",
              "      border-bottom-color: var(--fill-color);\n",
              "      border-left-color: var(--fill-color);\n",
              "    }\n",
              "    20% {\n",
              "      border-color: transparent;\n",
              "      border-left-color: var(--fill-color);\n",
              "      border-top-color: var(--fill-color);\n",
              "    }\n",
              "    30% {\n",
              "      border-color: transparent;\n",
              "      border-left-color: var(--fill-color);\n",
              "      border-top-color: var(--fill-color);\n",
              "      border-right-color: var(--fill-color);\n",
              "    }\n",
              "    40% {\n",
              "      border-color: transparent;\n",
              "      border-right-color: var(--fill-color);\n",
              "      border-top-color: var(--fill-color);\n",
              "    }\n",
              "    60% {\n",
              "      border-color: transparent;\n",
              "      border-right-color: var(--fill-color);\n",
              "    }\n",
              "    80% {\n",
              "      border-color: transparent;\n",
              "      border-right-color: var(--fill-color);\n",
              "      border-bottom-color: var(--fill-color);\n",
              "    }\n",
              "    90% {\n",
              "      border-color: transparent;\n",
              "      border-bottom-color: var(--fill-color);\n",
              "    }\n",
              "  }\n",
              "</style>\n",
              "\n",
              "      <script>\n",
              "        async function quickchart(key) {\n",
              "          const quickchartButtonEl =\n",
              "            document.querySelector('#' + key + ' button');\n",
              "          quickchartButtonEl.disabled = true;  // To prevent multiple clicks.\n",
              "          quickchartButtonEl.classList.add('colab-df-spinner');\n",
              "          try {\n",
              "            const charts = await google.colab.kernel.invokeFunction(\n",
              "                'suggestCharts', [key], {});\n",
              "          } catch (error) {\n",
              "            console.error('Error during call to suggestCharts:', error);\n",
              "          }\n",
              "          quickchartButtonEl.classList.remove('colab-df-spinner');\n",
              "          quickchartButtonEl.classList.add('colab-df-quickchart-complete');\n",
              "        }\n",
              "        (() => {\n",
              "          let quickchartButtonEl =\n",
              "            document.querySelector('#df-a20a30f9-2a54-4413-9aa9-49d5dc0cdc09 button');\n",
              "          quickchartButtonEl.style.display =\n",
              "            google.colab.kernel.accessAllowed ? 'block' : 'none';\n",
              "        })();\n",
              "      </script>\n",
              "    </div>\n",
              "\n",
              "    </div>\n",
              "  </div>\n"
            ],
            "application/vnd.google.colaboratory.intrinsic+json": {
              "type": "dataframe",
              "summary": "{\n  \"name\": \"df_clean\",\n  \"rows\": 8,\n  \"fields\": [\n    {\n      \"column\": \"year\",\n      \"properties\": {\n        \"dtype\": \"number\",\n        \"std\": 3548.966485247429,\n        \"min\": 12.40293554229657,\n        \"max\": 11560.0,\n        \"num_unique_values\": 8,\n        \"samples\": [\n          2001.0562283737024,\n          2001.0,\n          11560.0\n        ],\n        \"semantic_type\": \"\",\n        \"description\": \"\"\n      }\n    },\n    {\n      \"column\": \"pop\",\n      \"properties\": {\n        \"dtype\": \"number\",\n        \"std\": 2769114087.7904534,\n        \"min\": 0.0,\n        \"max\": 7951149546.0,\n        \"num_unique_values\": 8,\n        \"samples\": [\n          246009797.31219724,\n          7697828.0,\n          11560.0\n        ],\n        \"semantic_type\": \"\",\n        \"description\": \"\"\n      }\n    },\n    {\n      \"column\": \"labor_force\",\n      \"properties\": {\n        \"dtype\": \"number\",\n        \"std\": 1205229581.013679,\n        \"min\": 0.0,\n        \"max\": 3455348900.0,\n        \"num_unique_values\": 7,\n        \"samples\": [\n          11560.0,\n          88687521.11894463,\n          10350020.5\n        ],\n        \"semantic_type\": \"\",\n        \"description\": \"\"\n      }\n    },\n    {\n      \"column\": \"gdp_ppp_c\",\n      \"properties\": {\n        \"dtype\": \"number\",\n        \"std\": 48677470839361.63,\n        \"min\": 0.0,\n        \"max\": 139033278700565.0,\n        \"num_unique_values\": 7,\n        \"samples\": [\n          11560.0,\n          2206342651432.162,\n          316424710169.443\n        ],\n        \"semantic_type\": \"\",\n        \"description\": \"\"\n      }\n    },\n    {\n      \"column\": \"gdp_ppp\",\n      \"properties\": {\n        \"dtype\": \"number\",\n        \"std\": 57571413905600.47,\n        \"min\": 0.0,\n        \"max\": 164155327257670.0,\n        \"num_unique_values\": 7,\n        \"samples\": [\n          11560.0,\n          1985813036030.5273,\n          264614327961.93774\n        ],\n        \"semantic_type\": \"\",\n        \"description\": \"\"\n      }\n    },\n    {\n      \"column\": \"gdp\",\n      \"properties\": {\n        \"dtype\": \"number\",\n        \"std\": 35236418755066.75,\n        \"min\": 0.0,\n        \"max\": 100562011134034.0,\n        \"num_unique_values\": 8,\n        \"samples\": [\n          1345644547039.5168,\n          14954321798.53885,\n          11560.0\n        ],\n        \"semantic_type\": \"\",\n        \"description\": \"\"\n      }\n    },\n    {\n      \"column\": \"gdp_c\",\n      \"properties\": {\n        \"dtype\": \"number\",\n        \"std\": 31396701583621.6,\n        \"min\": 0.0,\n        \"max\": 89745805690958.1,\n        \"num_unique_values\": 8,\n        \"samples\": [\n          1557748892937.1482,\n          19990847225.341698,\n          11560.0\n        ],\n        \"semantic_type\": \"\",\n        \"description\": \"\"\n      }\n    },\n    {\n      \"column\": \"unemployment_r\",\n      \"properties\": {\n        \"dtype\": \"number\",\n        \"std\": 4083.951900590924,\n        \"min\": 0.0,\n        \"max\": 11560.0,\n        \"num_unique_values\": 7,\n        \"samples\": [\n          11560.0,\n          5.323715292569001,\n          8.052991992994368\n        ],\n        \"semantic_type\": \"\",\n        \"description\": \"\"\n      }\n    },\n    {\n      \"column\": \"pop_over_65\",\n      \"properties\": {\n        \"dtype\": \"number\",\n        \"std\": 4083.7388681170787,\n        \"min\": 0.0,\n        \"max\": 11560.0,\n        \"num_unique_values\": 8,\n        \"samples\": [\n          7.071427014643276,\n          4.8998015975158395,\n          11560.0\n        ],\n        \"semantic_type\": \"\",\n        \"description\": \"\"\n      }\n    },\n    {\n      \"column\": \"employment_rate\",\n      \"properties\": {\n        \"dtype\": \"number\",\n        \"std\": 4081.5911620006627,\n        \"min\": 0.0,\n        \"max\": 11560.0,\n        \"num_unique_values\": 5,\n        \"samples\": [\n          5.591582232698962,\n          86.525,\n          18.619341518467333\n        ],\n        \"semantic_type\": \"\",\n        \"description\": \"\"\n      }\n    },\n    {\n      \"column\": \"gdp_over_pop\",\n      \"properties\": {\n        \"dtype\": \"number\",\n        \"std\": 80497.89102673731,\n        \"min\": 0.0,\n        \"max\": 234317.08481827597,\n        \"num_unique_values\": 8,\n        \"samples\": [\n          9343.16566838529,\n          2257.693753299621,\n          11560.0\n        ],\n        \"semantic_type\": \"\",\n        \"description\": \"\"\n      }\n    },\n    {\n      \"column\": \"gdp_ppp_over_pop\",\n      \"properties\": {\n        \"dtype\": \"number\",\n        \"std\": 55328.24030410754,\n        \"min\": 0.0,\n        \"max\": 163219.4919900087,\n        \"num_unique_values\": 7,\n        \"samples\": [\n          11560.0,\n          10061.743216404491,\n          12392.92845112436\n        ],\n        \"semantic_type\": \"\",\n        \"description\": \"\"\n      }\n    },\n    {\n      \"column\": \"gdp_ppp_over_labor_force\",\n      \"properties\": {\n        \"dtype\": \"number\",\n        \"std\": 92917.18242144128,\n        \"min\": 0.0,\n        \"max\": 274446.3634133536,\n        \"num_unique_values\": 7,\n        \"samples\": [\n          11560.0,\n          19891.47006710196,\n          26740.15508461205\n        ],\n        \"semantic_type\": \"\",\n        \"description\": \"\"\n      }\n    },\n    {\n      \"column\": \"gdp_ppp_over_pop_c\",\n      \"properties\": {\n        \"dtype\": \"number\",\n        \"std\": 53162.41898930225,\n        \"min\": 0.0,\n        \"max\": 157602.48254590173,\n        \"num_unique_values\": 7,\n        \"samples\": [\n          11560.0,\n          11462.486957675172,\n          14211.116939448155\n        ],\n        \"semantic_type\": \"\",\n        \"description\": \"\"\n      }\n    },\n    {\n      \"column\": \"gdp_over_pop_c\",\n      \"properties\": {\n        \"dtype\": \"number\",\n        \"std\": 69695.98516564755,\n        \"min\": 0.0,\n        \"max\": 204190.97340701165,\n        \"num_unique_values\": 8,\n        \"samples\": [\n          10490.280218367545,\n          3147.2080573910634,\n          11560.0\n        ],\n        \"semantic_type\": \"\",\n        \"description\": \"\"\n      }\n    },\n    {\n      \"column\": \"gdp_ppp_over_k_hours_worked_c\",\n      \"properties\": {\n        \"dtype\": \"number\",\n        \"std\": 47260.05909589413,\n        \"min\": 0.0,\n        \"max\": 137222.25400576208,\n        \"num_unique_values\": 5,\n        \"samples\": [\n          5149.063936865951,\n          137222.25400576208,\n          16186.00163594517\n        ],\n        \"semantic_type\": \"\",\n        \"description\": \"\"\n      }\n    }\n  ]\n}"
            }
          },
          "metadata": {},
          "execution_count": 15
        }
      ]
    },
    {
      "cell_type": "code",
      "source": [
        "df_clean.info()"
      ],
      "metadata": {
        "id": "JpwYps-tdCZB",
        "colab": {
          "base_uri": "https://localhost:8080/"
        },
        "outputId": "fb65ff1b-e418-42a5-d558-16ba360c6a98"
      },
      "execution_count": 16,
      "outputs": [
        {
          "output_type": "stream",
          "name": "stdout",
          "text": [
            "<class 'pandas.core.frame.DataFrame'>\n",
            "RangeIndex: 11560 entries, 0 to 11559\n",
            "Data columns (total 17 columns):\n",
            " #   Column                         Non-Null Count  Dtype  \n",
            "---  ------                         --------------  -----  \n",
            " 0   year                           11560 non-null  int64  \n",
            " 1   country                        11560 non-null  object \n",
            " 2   pop                            11560 non-null  float64\n",
            " 3   labor_force                    11560 non-null  float64\n",
            " 4   gdp_ppp_c                      11560 non-null  float64\n",
            " 5   gdp_ppp                        11560 non-null  float64\n",
            " 6   gdp                            11560 non-null  float64\n",
            " 7   gdp_c                          11560 non-null  float64\n",
            " 8   unemployment_r                 11560 non-null  float64\n",
            " 9   pop_over_65                    11560 non-null  float64\n",
            " 10  employment_rate                11560 non-null  float64\n",
            " 11  gdp_over_pop                   11560 non-null  float64\n",
            " 12  gdp_ppp_over_pop               11560 non-null  float64\n",
            " 13  gdp_ppp_over_labor_force       11560 non-null  float64\n",
            " 14  gdp_ppp_over_pop_c             11560 non-null  float64\n",
            " 15  gdp_over_pop_c                 11560 non-null  float64\n",
            " 16  gdp_ppp_over_k_hours_worked_c  11560 non-null  float64\n",
            "dtypes: float64(15), int64(1), object(1)\n",
            "memory usage: 1.5+ MB\n"
          ]
        }
      ]
    },
    {
      "cell_type": "code",
      "source": [],
      "metadata": {
        "id": "zoQqWqOVTge5"
      },
      "execution_count": 16,
      "outputs": []
    },
    {
      "cell_type": "markdown",
      "source": [
        "#Loading SQLite"
      ],
      "metadata": {
        "id": "KIIlHCR8WGzU"
      }
    },
    {
      "cell_type": "code",
      "source": [
        "import os\n",
        "print(os.listdir('/content/'))\n",
        "\n"
      ],
      "metadata": {
        "colab": {
          "base_uri": "https://localhost:8080/"
        },
        "id": "ytCYBhOQWK8O",
        "outputId": "b223f724-4380-46d8-cf6d-9410ac3e0a3e"
      },
      "execution_count": 17,
      "outputs": [
        {
          "output_type": "stream",
          "name": "stdout",
          "text": [
            "['.config', 'gdp_over_hours_worked.csv', 'visuals', 'sample_data']\n"
          ]
        }
      ]
    },
    {
      "cell_type": "code",
      "source": [
        "# Create SQLite connection\n",
        "conn = sqlite3.connect('/content/gdp_data.sqlite')\n",
        "\n",
        "# Write the DataFrame to SQL table named 'gdp_over_hours_worked'\n",
        "data.to_sql('gdp_over_hours_worked', conn, if_exists='replace', index=False)\n",
        "\n",
        "# Check tables now\n",
        "cursor = conn.cursor()\n",
        "cursor.execute(\"SELECT name FROM sqlite_master WHERE type='table';\")\n",
        "print(cursor.fetchall())"
      ],
      "metadata": {
        "colab": {
          "base_uri": "https://localhost:8080/"
        },
        "id": "xu7ZK4__amlz",
        "outputId": "5c0b1ac8-854a-4ab7-bf48-6902250baa7e"
      },
      "execution_count": 18,
      "outputs": [
        {
          "output_type": "stream",
          "name": "stdout",
          "text": [
            "[('gdp_over_hours_worked',)]\n"
          ]
        }
      ]
    },
    {
      "cell_type": "markdown",
      "source": [
        "## 📊 Economic Performance\n",
        "\n",
        "\n"
      ],
      "metadata": {
        "id": "6UikkipvdFOc"
      }
    },
    {
      "cell_type": "markdown",
      "source": [
        "1. Which countries have the highest GDP per capita in the most recent year?  \n"
      ],
      "metadata": {
        "id": "Bzl1u2RgdJ8G"
      }
    },
    {
      "cell_type": "code",
      "source": [
        "# Write the SQL query as a string\n",
        "query = \"\"\"\n",
        "SELECT country, year, gdp_ppp_over_pop_c AS gdp_per_capita\n",
        "FROM gdp_over_hours_worked\n",
        "WHERE year = (SELECT MAX(year) FROM gdp_over_hours_worked)\n",
        "ORDER BY gdp_per_capita DESC\n",
        "LIMIT 10;\n",
        "\"\"\"\n",
        "\n",
        "# Run the query and load into pandas DataFrame\n",
        "df_top_gdp = pd.read_sql_query(query, conn)\n",
        "\n",
        "# Show the result\n",
        "print(df_top_gdp)\n",
        "\n"
      ],
      "metadata": {
        "id": "J8BPvl7KdR7D",
        "colab": {
          "base_uri": "https://localhost:8080/"
        },
        "outputId": "5321f8bd-d645-4f03-fa48-cd5bb7b50706"
      },
      "execution_count": 19,
      "outputs": [
        {
          "output_type": "stream",
          "name": "stdout",
          "text": [
            "                country  year  gdp_per_capita\n",
            "0            Luxembourg  2022      115,541.77\n",
            "1               Ireland  2022      113,870.79\n",
            "2             Singapore  2022      108,036.11\n",
            "3                 Qatar  2022       97,096.94\n",
            "4               Bermuda  2022       81,165.65\n",
            "5  United Arab Emirates  2022       74,299.01\n",
            "6           Switzerland  2022       70,999.69\n",
            "7                Norway  2022       67,462.38\n",
            "8         United States  2022       64,702.98\n",
            "9         North America  2022       63,058.98\n"
          ]
        }
      ]
    },
    {
      "cell_type": "markdown",
      "source": [
        "2. Compare GDP vs PPP-adjusted GDP for the top 5 economies in 2020.  \n"
      ],
      "metadata": {
        "id": "DhFUX66jdK4-"
      }
    },
    {
      "cell_type": "code",
      "source": [
        "\n",
        "query = \"\"\"\n",
        "SELECT country, year, gdp, gdp_ppp\n",
        "FROM gdp_over_hours_worked\n",
        "WHERE year = 2020\n",
        "  AND country NOT IN (\n",
        "    'World', 'High income', 'OECD members', 'Post-demographic dividend',\n",
        "    'IDA & IBRD total', 'Low & middle income', 'Middle income',\n",
        "    'IBRD only', 'Upper middle income', 'East Asia & Pacific','Late-demographic dividend',\n",
        "    ' Europe & Central Asia','East Asia & Pacific (excluding high income)','East Asia & Pacific (IDA & IBRD countries)',\n",
        "    'Early-demographic dividend ','Europe & Central Asia','Early-demographic dividend','North America',\n",
        "    'Lower middle income','European Union','Euro area','Fragile and conflict affected situations',\n",
        "    'South Asia','South Asia (IDA & IBRD)','South Asia (excluding high income)','Sub-Saharan Africa','Sub-Saharan Africa (excluding high income)',\n",
        "    'Sub-Saharan Africa (IDA & IBRD countries)','Latin America & Caribbean','Latin America & Caribbean (excluding high income)',\n",
        "    'Europe & Central Asia (IDA & IBRD countries)','Europe & Central Asia (excluding high income)',\n",
        "    'Latin America & the Caribbean (IDA & IBRD countries)','Middle East & North Africa','IDA total','Arab World'\n",
        "    )\n",
        "ORDER BY gdp_ppp DESC\n",
        "LIMIT 5;\n",
        "\n",
        "\"\"\"\n",
        "\n",
        "df_top5_gdp_ppp = pd.read_sql_query(query, conn)\n",
        "print(df_top5_gdp_ppp)"
      ],
      "metadata": {
        "id": "gXxyHDbAdRql",
        "colab": {
          "base_uri": "https://localhost:8080/"
        },
        "outputId": "5f9afacb-af30-4f20-dd97-cf94f601f6b9"
      },
      "execution_count": 20,
      "outputs": [
        {
          "output_type": "stream",
          "name": "stdout",
          "text": [
            "         country  year                   gdp               gdp_ppp\n",
            "0          China  2020 14,687,743,556,969.60 24,284,244,952,353.10\n",
            "1  United States  2020 21,060,473,613,000.00 21,060,473,613,000.00\n",
            "2          India  2020  2,671,595,389,575.70  9,101,318,098,423.27\n",
            "3          Japan  2020  5,048,789,595,589.43  5,263,052,865,582.27\n",
            "4        Germany  2020  3,889,668,895,299.56  4,697,131,869,981.02\n"
          ]
        }
      ]
    },
    {
      "cell_type": "code",
      "source": [
        "\n",
        "df_top5_gdp_ppp.plot(x='country', y=['gdp', 'gdp_ppp'], kind='bar', figsize=(10,6))\n",
        "plt.title('Nominal vs PPP-adjusted GDP (Top 5 economies, 2020)')\n",
        "plt.ylabel('GDP in trillions')\n",
        "plt.xticks(rotation=45)\n",
        "plt.tight_layout()\n",
        "\n",
        "# Save plot\n",
        "plt.savefig('visuals/Nominal vs PPP-adjusted GDP.png', bbox_inches='tight')\n",
        "plt.show()\n"
      ],
      "metadata": {
        "id": "efBztyrpdSkQ",
        "colab": {
          "base_uri": "https://localhost:8080/",
          "height": 528
        },
        "outputId": "2a4c0784-0d82-4dff-b2ed-daa1f15984cc"
      },
      "execution_count": 21,
      "outputs": [
        {
          "output_type": "display_data",
          "data": {
            "text/plain": [
              "<Figure size 1000x600 with 1 Axes>"
            ],
            "image/png": "[encoded data removed]"
          },
          "metadata": {}
        }
      ]
    },
    {
      "cell_type": "markdown",
      "source": [
        "3. How has GDP per capita evolved over time for selected countries?"
      ],
      "metadata": {
        "id": "YZytDKPIdKcx"
      }
    },
    {
      "cell_type": "code",
      "source": [
        "query = \"\"\"\n",
        "SELECT country, year, gdp_ppp_over_pop_c AS gdp_per_capita\n",
        "FROM gdp_over_hours_worked\n",
        "WHERE country IN ('China','United States','India','Japan','Germany')\n",
        "ORDER BY country, year;\n",
        "\"\"\"\n",
        "\n",
        "df_gdp_trend = pd.read_sql_query(query, conn)\n",
        "print(df_gdp_trend)\n",
        "\n",
        "\n",
        "\n",
        "\n"
      ],
      "metadata": {
        "id": "ERlf0jBBdTKT",
        "colab": {
          "base_uri": "https://localhost:8080/"
        },
        "outputId": "aef66667-1754-40ae-e1dc-0da11ca2281c"
      },
      "execution_count": 22,
      "outputs": [
        {
          "output_type": "stream",
          "name": "stdout",
          "text": [
            "           country  year  gdp_per_capita\n",
            "0            China  1980             NaN\n",
            "1            China  1981             NaN\n",
            "2            China  1982             NaN\n",
            "3            China  1983             NaN\n",
            "4            China  1984             NaN\n",
            "..             ...   ...             ...\n",
            "210  United States  2018       61,348.46\n",
            "211  United States  2019       62,470.93\n",
            "212  United States  2020       60,158.91\n",
            "213  United States  2021       63,635.82\n",
            "214  United States  2022       64,702.98\n",
            "\n",
            "[215 rows x 3 columns]\n"
          ]
        }
      ]
    },
    {
      "cell_type": "code",
      "source": [
        "plt.figure(figsize=(12, 6))\n",
        "sns.lineplot(data=df_gdp_trend, x='year', y='gdp_per_capita', hue='country')\n",
        "plt.title('GDP per Capita over Time')\n",
        "plt.xlabel('Year')\n",
        "plt.ylabel('GDP per Capita (PPP-adjusted)')\n",
        "plt.xticks(rotation=45)\n",
        "plt.grid(True)\n",
        "plt.tight_layout()\n",
        "plt.savefig('visuals/GDP per Capita over Time.png', bbox_inches='tight')\n",
        "\n",
        "plt.show()"
      ],
      "metadata": {
        "id": "hY9ryVhcdUKK",
        "colab": {
          "base_uri": "https://localhost:8080/",
          "height": 442
        },
        "outputId": "034f6236-4205-41c9-9c4a-5e124f4a5adc"
      },
      "execution_count": 34,
      "outputs": [
        {
          "output_type": "display_data",
          "data": {
            "text/plain": [
              "<Figure size 1200x600 with 1 Axes>"
            ],
            "image/png": "[encoded data removed]"
          },
          "metadata": {}
        }
      ]
    },
    {
      "cell_type": "markdown",
      "source": [
        "## 🧠 Demographics & Labor\n",
        "\n",
        "\n"
      ],
      "metadata": {
        "id": "ocIzu-HXdUk6"
      }
    },
    {
      "cell_type": "markdown",
      "source": [
        "4. Is there a relationship between % of population over 65 and GDP per capita?  \n"
      ],
      "metadata": {
        "id": "wRrarT9HdXvO"
      }
    },
    {
      "cell_type": "code",
      "source": [
        "query = \"\"\"\n",
        "SELECT country, year, gdp_ppp_over_pop_c AS gdp_per_capita, pop_over_65\n",
        "FROM gdp_over_hours_worked\n",
        "WHERE year = 2020\n",
        "  AND gdp_ppp_over_pop_c IS NOT NULL\n",
        "  AND pop_over_65 IS NOT NULL;\n",
        "\"\"\"\n",
        "\n",
        "df_gdp_pop = pd.read_sql_query(query, conn)\n",
        "print(df_gdp_pop)\n",
        "\n"
      ],
      "metadata": {
        "id": "DrBs2yV7dd0Y",
        "colab": {
          "base_uri": "https://localhost:8080/"
        },
        "outputId": "8b3cbeba-1aa7-441e-e142-195e524b97bf"
      },
      "execution_count": 24,
      "outputs": [
        {
          "output_type": "stream",
          "name": "stdout",
          "text": [
            "                                           country  year  gdp_per_capita  \\\n",
            "0                                       Arab World  2020       13,466.49   \n",
            "1                                            World  2020       16,204.17   \n",
            "2      East Asia & Pacific (excluding high income)  2020       14,458.05   \n",
            "3    Europe & Central Asia (excluding high income)  2020       21,363.41   \n",
            "4                                       South Asia  2020        5,937.45   \n",
            "..                                             ...   ...             ...   \n",
            "241                                        Namibia  2020        9,041.77   \n",
            "242                                        Namibia  2020        9,041.77   \n",
            "243                                        Namibia  2020        9,041.77   \n",
            "244                                        Namibia  2020        9,041.77   \n",
            "245                                        Namibia  2020        9,041.77   \n",
            "\n",
            "     pop_over_65  \n",
            "0           4.36  \n",
            "1           9.43  \n",
            "2          10.88  \n",
            "3          12.12  \n",
            "4           6.23  \n",
            "..           ...  \n",
            "241         4.03  \n",
            "242         4.03  \n",
            "243         4.03  \n",
            "244         4.03  \n",
            "245         4.03  \n",
            "\n",
            "[246 rows x 4 columns]\n"
          ]
        }
      ]
    },
    {
      "cell_type": "code",
      "source": [
        "\n",
        "# Scatterplot\n",
        "plt.figure(figsize=(10,6))\n",
        "sns.scatterplot(data=df_gdp_pop, x='pop_over_65', y='gdp_per_capita')\n",
        "plt.title('GDP per Capita vs % Population Over 65 (2020)')\n",
        "plt.xlabel('% Population Aged 65+')\n",
        "plt.ylabel('GDP per Capita (PPP-adjusted)')\n",
        "plt.grid(True)\n",
        "plt.tight_layout()\n",
        "plt.savefig('visuals/GDP per Capita vs % Population Over 65 .png', bbox_inches='tight')\n",
        "\n",
        "plt.show()"
      ],
      "metadata": {
        "id": "BWY9sA42deJA",
        "colab": {
          "base_uri": "https://localhost:8080/",
          "height": 528
        },
        "outputId": "aa1d76a7-4530-4176-a8ba-fba8d7ece50d"
      },
      "execution_count": 35,
      "outputs": [
        {
          "output_type": "display_data",
          "data": {
            "text/plain": [
              "<Figure size 1000x600 with 1 Axes>"
            ],
            "image/png": "[encoded data removed]"
          },
          "metadata": {}
        }
      ]
    },
    {
      "cell_type": "markdown",
      "source": [
        "5. Do top 10 countries by GDP/capita also show high unemployment?  \n"
      ],
      "metadata": {
        "id": "yjzzJbMTdYFc"
      }
    },
    {
      "cell_type": "code",
      "source": [
        "query = \"\"\"\n",
        "SELECT country, year, gdp_ppp_over_pop_c AS gdp_per_capita, unemployment_r\n",
        "FROM gdp_over_hours_worked\n",
        "WHERE year = 2022\n",
        "  AND gdp_ppp_over_pop_c IS NOT NULL\n",
        "  AND unemployment_r IS NOT NULL\n",
        "  AND country NOT IN ('North America','South Asia')\n",
        "ORDER BY gdp_ppp_over_pop_c DESC\n",
        "LIMIT 10;\n",
        "\"\"\"\n",
        "\n",
        "# Load the data into a DataFrame\n",
        "df_top10 = pd.read_sql_query(query, conn)\n",
        "print(df_top10)"
      ],
      "metadata": {
        "id": "rP-5SPhOdeuu",
        "colab": {
          "base_uri": "https://localhost:8080/"
        },
        "outputId": "4fdd404b-0964-4fa0-f847-87b91bb641d1"
      },
      "execution_count": 26,
      "outputs": [
        {
          "output_type": "stream",
          "name": "stdout",
          "text": [
            "                country  year  gdp_per_capita  unemployment_r\n",
            "0            Luxembourg  2022      115,541.77            4.70\n",
            "1               Ireland  2022      113,870.79            4.36\n",
            "2             Singapore  2022      108,036.11            2.76\n",
            "3                 Qatar  2022       97,096.94            0.10\n",
            "4  United Arab Emirates  2022       74,299.01            2.75\n",
            "5           Switzerland  2022       70,999.69            4.20\n",
            "6                Norway  2022       67,462.38            3.17\n",
            "7         United States  2022       64,702.98            3.61\n",
            "8               Denmark  2022       59,704.23            4.17\n",
            "9     Brunei Darussalam  2022       58,669.90            7.20\n"
          ]
        }
      ]
    },
    {
      "cell_type": "code",
      "source": [
        "plt.figure(figsize=(12, 6))\n",
        "sns.set_style(\"whitegrid\")\n",
        "\n",
        "# Create a barplot with GDP per capita on left y-axis\n",
        "bar1 = sns.barplot(x='country', y='gdp_per_capita', data=df_top10, color='blue')\n",
        "bar1.set_ylabel('GDP per Capita (PPP)', color='blue')\n",
        "bar1.set_xlabel('Country')\n",
        "bar1.set_title('Top 10 Countries by GDP per Capita and Their Unemployment Rates (2022)')\n",
        "bar1.tick_params(axis='y', labelcolor='blue')\n",
        "plt.xticks(rotation=45)\n",
        "\n",
        "# Create a second y-axis to plot unemployment rate\n",
        "bar2 = bar1.twinx()\n",
        "sns.lineplot(x='country', y='unemployment_r', data=df_top10, sort=False, marker='o', color='red', ax=bar2)\n",
        "bar2.set_ylabel('Unemployment Rate (%)', color='red')\n",
        "bar2.tick_params(axis='y', labelcolor='red')\n",
        "\n",
        "plt.tight_layout()\n",
        "plt.savefig('visuals/Top10_countries_and_unemployment.png', bbox_inches='tight')\n",
        "\n",
        "plt.show()"
      ],
      "metadata": {
        "id": "zR8eu37Jdeix",
        "colab": {
          "base_uri": "https://localhost:8080/",
          "height": 442
        },
        "outputId": "e34b616f-84d9-45f3-c2a5-83bd5ff0eda9"
      },
      "execution_count": 36,
      "outputs": [
        {
          "output_type": "display_data",
          "data": {
            "text/plain": [
              "<Figure size 1200x600 with 2 Axes>"
            ],
            "image/png": "[encoded data removed]"
          },
          "metadata": {}
        }
      ]
    },
    {
      "cell_type": "markdown",
      "source": [
        "## 🌍 Global & Regional Comparisons\n",
        "\n"
      ],
      "metadata": {
        "id": "VF95faWddiBD"
      }
    },
    {
      "cell_type": "markdown",
      "source": [
        "7. How has the **global average GDP per capita** evolved since 1990?  \n",
        "\n"
      ],
      "metadata": {
        "id": "3xIot68MdiY3"
      }
    },
    {
      "cell_type": "code",
      "source": [
        "query = \"\"\"\n",
        "SELECT year, gdp_over_pop_c AS avg_gdp_per_capita\n",
        "FROM gdp_over_hours_worked\n",
        "WHERE country = 'World'\n",
        "  AND year >= 1990\n",
        "ORDER BY year\n",
        "\"\"\"\n",
        "\n",
        "df_world = pd.read_sql_query(query, conn)"
      ],
      "metadata": {
        "id": "8St11F4LdqP0"
      },
      "execution_count": 28,
      "outputs": []
    },
    {
      "cell_type": "code",
      "source": [
        "import matplotlib.pyplot as plt\n",
        "\n",
        "plt.figure(figsize=(10,6))\n",
        "plt.plot(df_world['year'], df_world['avg_gdp_per_capita'], marker='o')\n",
        "plt.title('Global Average GDP per Capita Since 1990')\n",
        "plt.xlabel('Year')\n",
        "plt.ylabel('Average GDP per Capita (USD)')\n",
        "plt.grid(True)\n",
        "plt.savefig('visuals/Global Average GDP per Capita Since 1990.png', bbox_inches='tight')\n",
        "\n",
        "plt.show()\n"
      ],
      "metadata": {
        "colab": {
          "base_uri": "https://localhost:8080/",
          "height": 557
        },
        "id": "9PE01wAEpW2A",
        "outputId": "59463249-117e-4338-9c96-8803d9c4ffc2"
      },
      "execution_count": 37,
      "outputs": [
        {
          "output_type": "display_data",
          "data": {
            "text/plain": [
              "<Figure size 1000x600 with 1 Axes>"
            ],
            "image/png": "[encoded data removed]"
          },
          "metadata": {}
        }
      ]
    },
    {
      "cell_type": "markdown",
      "source": [
        "8. How does the global trajectory compare with key countries (e.g., US, India, China)?  \n"
      ],
      "metadata": {
        "id": "z3SsH_OQdiq6"
      }
    },
    {
      "cell_type": "code",
      "source": [
        "query = \"\"\"\n",
        "SELECT year, gdp_over_pop_c AS gdp_per_capita, country\n",
        "FROM gdp_over_hours_worked\n",
        "WHERE country IN ('World', 'United States', 'India', 'China','Germany','Japan')\n",
        "  AND year >= 1990\n",
        "ORDER BY year, country;\n",
        "\"\"\"\n",
        "\n",
        "df_compare = pd.read_sql_query(query, conn)\n"
      ],
      "metadata": {
        "id": "9wigIW6hdqsd"
      },
      "execution_count": 30,
      "outputs": []
    },
    {
      "cell_type": "code",
      "source": [
        "plt.figure(figsize=(12,7))\n",
        "sns.lineplot(data=df_compare, x='year', y='gdp_per_capita', hue='country', marker='o')\n",
        "plt.title('GDP per Capita: Global Average vs USA, India, China, Japan, Germany (Since 1990)')\n",
        "plt.xlabel('Year')\n",
        "plt.ylabel('GDP per Capita (USD)')\n",
        "plt.grid(True)\n",
        "plt.legend(title='Country')\n",
        "plt.savefig('visuals/GDP per Capita: Global Average vs Top countries.png', bbox_inches='tight')\n",
        "\n",
        "plt.show()"
      ],
      "metadata": {
        "colab": {
          "base_uri": "https://localhost:8080/",
          "height": 539
        },
        "id": "hsifTLiMqL8z",
        "outputId": "118fcd22-ba2a-48b6-8f36-0f1493ea2f18"
      },
      "execution_count": 38,
      "outputs": [
        {
          "output_type": "display_data",
          "data": {
            "text/plain": [
              "<Figure size 1200x700 with 1 Axes>"
            ],
            "image/png": "[encoded data removed]"
          },
          "metadata": {}
        }
      ]
    },
    {
      "cell_type": "markdown",
      "source": [
        "9. Which regions contribute the most to global GDP? *(Sunburst or Treemap)*"
      ],
      "metadata": {
        "id": "QPl9eXSYdi8x"
      }
    },
    {
      "cell_type": "code",
      "source": [
        "\n",
        "query = \"\"\"\n",
        "SELECT country AS region, gdp\n",
        "FROM gdp_over_hours_worked\n",
        "WHERE year = 2020\n",
        "AND country IN ('East Asia & Pacific',\n",
        "               'Europe & Central Asia', 'Latin America & Caribbean', 'Middle East & North Africa',\n",
        "               'South Asia', 'Sub-Saharan Africa',\n",
        "               'North America')\n",
        "ORDER BY gdp DESC;\n",
        "\"\"\"\n",
        "\n",
        "df_regions = pd.read_sql_query(query, conn)\n",
        "\n",
        "fig = px.treemap(df_regions, path=['region'], values='gdp',\n",
        "                 title='GDP Contribution by Region in 2020',\n",
        "                 color='gdp', color_continuous_scale='Blues')\n",
        "\n",
        "fig.write_html('visuals/Treemap_GDPcontribution.html')\n",
        "\n",
        "fig.show()\n"
      ],
      "metadata": {
        "id": "Sdmm5tI5drZ_",
        "colab": {
          "base_uri": "https://localhost:8080/",
          "height": 542
        },
        "outputId": "73645450-ca7a-490f-8858-91b27fa09155"
      },
      "execution_count": 52,
      "outputs": [
        {
          "output_type": "display_data",
          "data": {
            "text/html": [
              "<html>\n",
              "<head><meta charset=\"utf-8\" /></head>\n",
              "<body>\n",
              "    <div>            <script src=\"https://cdnjs.cloudflare.com/ajax/libs/mathjax/2.7.5/MathJax.js?config=TeX-AMS-MML_SVG\"></script><script type=\"text/javascript\">if (window.MathJax && window.MathJax.Hub && window.MathJax.Hub.Config) {window.MathJax.Hub.Config({SVG: {font: \"STIX-Web\"}});}</script>                <script type=\"text/javascript\">window.PlotlyConfig = {MathJaxConfig: 'local'};</script>\n",
              "        <script charset=\"utf-8\" src=\"https://cdn.plot.ly/plotly-3.0.1.min.js\"></script>                <div id=\"ba3edd92-7fc1-4d80-a274-a4dd7bac7f62\" class=\"plotly-graph-div\" style=\"height:525px; width:100%;\"></div>            <script type=\"text/javascript\">                window.PLOTLYENV=window.PLOTLYENV || {};                                if (document.getElementById(\"ba3edd92-7fc1-4d80-a274-a4dd7bac7f62\")) {                    Plotly.newPlot(                        \"ba3edd92-7fc1-4d80-a274-a4dd7bac7f62\",                        [{\"branchvalues\":\"total\",\"customdata\":{\"dtype\":\"f8\",\"bdata\":\"5js9xyewuEKzvmsSvai0QhqeOyw0JbRC4a4eHHVhkUKkfgKTp2SJQjO\\u002fE+EB+oZCCSvfqVjxeEI=\",\"shape\":\"7, 1\"},\"domain\":{\"x\":[0.0,1.0],\"y\":[0.0,1.0]},\"hovertemplate\":\"labels=%{label}\\u003cbr\\u003egdp_sum=%{value}\\u003cbr\\u003eparent=%{parent}\\u003cbr\\u003eid=%{id}\\u003cbr\\u003egdp=%{color}\\u003cextra\\u003e\\u003c\\u002fextra\\u003e\",\"ids\":[\"East Asia & Pacific\",\"North America\",\"Europe & Central Asia\",\"Latin America & Caribbean\",\"South Asia\",\"Middle East & North Africa\",\"Sub-Saharan Africa\"],\"labels\":[\"East Asia & Pacific\",\"North America\",\"Europe & Central Asia\",\"Latin America & Caribbean\",\"South Asia\",\"Middle East & North Africa\",\"Sub-Saharan Africa\"],\"marker\":{\"coloraxis\":\"coloraxis\",\"colors\":{\"dtype\":\"f8\",\"bdata\":\"5js9xyewuEKzvmsSvai0QhqeOyw0JbRC4a4eHHVhkUKkfgKTp2SJQjO\\u002fE+EB+oZCCSvfqVjxeEI=\"}},\"name\":\"\",\"parents\":[\"\",\"\",\"\",\"\",\"\",\"\",\"\"],\"values\":{\"dtype\":\"f8\",\"bdata\":\"5js9xyewuEKzvmsSvai0QhqeOyw0JbRC4a4eHHVhkUKkfgKTp2SJQjO\\u002fE+EB+oZCCivfqVjxeEI=\"},\"type\":\"treemap\"}],                        {\"template\":{\"data\":{\"histogram2dcontour\":[{\"type\":\"histogram2dcontour\",\"colorbar\":{\"outlinewidth\":0,\"ticks\":\"\"},\"colorscale\":[[0.0,\"#0d0887\"],[0.1111111111111111,\"#46039f\"],[0.2222222222222222,\"#7201a8\"],[0.3333333333333333,\"#9c179e\"],[0.4444444444444444,\"#bd3786\"],[0.5555555555555556,\"#d8576b\"],[0.6666666666666666,\"#ed7953\"],[0.7777777777777778,\"#fb9f3a\"],[0.8888888888888888,\"#fdca26\"],[1.0,\"#f0f921\"]]}],\"choropleth\":[{\"type\":\"choropleth\",\"colorbar\":{\"outlinewidth\":0,\"ticks\":\"\"}}],\"histogram2d\":[{\"type\":\"histogram2d\",\"colorbar\":{\"outlinewidth\":0,\"ticks\":\"\"},\"colorscale\":[[0.0,\"#0d0887\"],[0.1111111111111111,\"#46039f\"],[0.2222222222222222,\"#7201a8\"],[0.3333333333333333,\"#9c179e\"],[0.4444444444444444,\"#bd3786\"],[0.5555555555555556,\"#d8576b\"],[0.6666666666666666,\"#ed7953\"],[0.7777777777777778,\"#fb9f3a\"],[0.8888888888888888,\"#fdca26\"],[1.0,\"#f0f921\"]]}],\"heatmap\":[{\"type\":\"heatmap\",\"colorbar\":{\"outlinewidth\":0,\"ticks\":\"\"},\"colorscale\":[[0.0,\"#0d0887\"],[0.1111111111111111,\"#46039f\"],[0.2222222222222222,\"#7201a8\"],[0.3333333333333333,\"#9c179e\"],[0.4444444444444444,\"#bd3786\"],[0.5555555555555556,\"#d8576b\"],[0.6666666666666666,\"#ed7953\"],[0.7777777777777778,\"#fb9f3a\"],[0.8888888888888888,\"#fdca26\"],[1.0,\"#f0f921\"]]}],\"contourcarpet\":[{\"type\":\"contourcarpet\",\"colorbar\":{\"outlinewidth\":0,\"ticks\":\"\"}}],\"contour\":[{\"type\":\"contour\",\"colorbar\":{\"outlinewidth\":0,\"ticks\":\"\"},\"colorscale\":[[0.0,\"#0d0887\"],[0.1111111111111111,\"#46039f\"],[0.2222222222222222,\"#7201a8\"],[0.3333333333333333,\"#9c179e\"],[0.4444444444444444,\"#bd3786\"],[0.5555555555555556,\"#d8576b\"],[0.6666666666666666,\"#ed7953\"],[0.7777777777777778,\"#fb9f3a\"],[0.8888888888888888,\"#fdca26\"],[1.0,\"#f0f921\"]]}],\"surface\":[{\"type\":\"surface\",\"colorbar\":{\"outlinewidth\":0,\"ticks\":\"\"},\"colorscale\":[[0.0,\"#0d0887\"],[0.1111111111111111,\"#46039f\"],[0.2222222222222222,\"#7201a8\"],[0.3333333333333333,\"#9c179e\"],[0.4444444444444444,\"#bd3786\"],[0.5555555555555556,\"#d8576b\"],[0.6666666666666666,\"#ed7953\"],[0.7777777777777778,\"#fb9f3a\"],[0.8888888888888888,\"#fdca26\"],[1.0,\"#f0f921\"]]}],\"mesh3d\":[{\"type\":\"mesh3d\",\"colorbar\":{\"outlinewidth\":0,\"ticks\":\"\"}}],\"scatter\":[{\"fillpattern\":{\"fillmode\":\"overlay\",\"size\":10,\"solidity\":0.2},\"type\":\"scatter\"}],\"parcoords\":[{\"type\":\"parcoords\",\"line\":{\"colorbar\":{\"outlinewidth\":0,\"ticks\":\"\"}}}],\"scatterpolargl\":[{\"type\":\"scatterpolargl\",\"marker\":{\"colorbar\":{\"outlinewidth\":0,\"ticks\":\"\"}}}],\"bar\":[{\"error_x\":{\"color\":\"#2a3f5f\"},\"error_y\":{\"color\":\"#2a3f5f\"},\"marker\":{\"line\":{\"color\":\"#E5ECF6\",\"width\":0.5},\"pattern\":{\"fillmode\":\"overlay\",\"size\":10,\"solidity\":0.2}},\"type\":\"bar\"}],\"scattergeo\":[{\"type\":\"scattergeo\",\"marker\":{\"colorbar\":{\"outlinewidth\":0,\"ticks\":\"\"}}}],\"scatterpolar\":[{\"type\":\"scatterpolar\",\"marker\":{\"colorbar\":{\"outlinewidth\":0,\"ticks\":\"\"}}}],\"histogram\":[{\"marker\":{\"pattern\":{\"fillmode\":\"overlay\",\"size\":10,\"solidity\":0.2}},\"type\":\"histogram\"}],\"scattergl\":[{\"type\":\"scattergl\",\"marker\":{\"colorbar\":{\"outlinewidth\":0,\"ticks\":\"\"}}}],\"scatter3d\":[{\"type\":\"scatter3d\",\"line\":{\"colorbar\":{\"outlinewidth\":0,\"ticks\":\"\"}},\"marker\":{\"colorbar\":{\"outlinewidth\":0,\"ticks\":\"\"}}}],\"scattermap\":[{\"type\":\"scattermap\",\"marker\":{\"colorbar\":{\"outlinewidth\":0,\"ticks\":\"\"}}}],\"scattermapbox\":[{\"type\":\"scattermapbox\",\"marker\":{\"colorbar\":{\"outlinewidth\":0,\"ticks\":\"\"}}}],\"scatterternary\":[{\"type\":\"scatterternary\",\"marker\":{\"colorbar\":{\"outlinewidth\":0,\"ticks\":\"\"}}}],\"scattercarpet\":[{\"type\":\"scattercarpet\",\"marker\":{\"colorbar\":{\"outlinewidth\":0,\"ticks\":\"\"}}}],\"carpet\":[{\"aaxis\":{\"endlinecolor\":\"#2a3f5f\",\"gridcolor\":\"white\",\"linecolor\":\"white\",\"minorgridcolor\":\"white\",\"startlinecolor\":\"#2a3f5f\"},\"baxis\":{\"endlinecolor\":\"#2a3f5f\",\"gridcolor\":\"white\",\"linecolor\":\"white\",\"minorgridcolor\":\"white\",\"startlinecolor\":\"#2a3f5f\"},\"type\":\"carpet\"}],\"table\":[{\"cells\":{\"fill\":{\"color\":\"#EBF0F8\"},\"line\":{\"color\":\"white\"}},\"header\":{\"fill\":{\"color\":\"#C8D4E3\"},\"line\":{\"color\":\"white\"}},\"type\":\"table\"}],\"barpolar\":[{\"marker\":{\"line\":{\"color\":\"#E5ECF6\",\"width\":0.5},\"pattern\":{\"fillmode\":\"overlay\",\"size\":10,\"solidity\":0.2}},\"type\":\"barpolar\"}],\"pie\":[{\"automargin\":true,\"type\":\"pie\"}]},\"layout\":{\"autotypenumbers\":\"strict\",\"colorway\":[\"#636efa\",\"#EF553B\",\"#00cc96\",\"#ab63fa\",\"#FFA15A\",\"#19d3f3\",\"#FF6692\",\"#B6E880\",\"#FF97FF\",\"#FECB52\"],\"font\":{\"color\":\"#2a3f5f\"},\"hovermode\":\"closest\",\"hoverlabel\":{\"align\":\"left\"},\"paper_bgcolor\":\"white\",\"plot_bgcolor\":\"#E5ECF6\",\"polar\":{\"bgcolor\":\"#E5ECF6\",\"angularaxis\":{\"gridcolor\":\"white\",\"linecolor\":\"white\",\"ticks\":\"\"},\"radialaxis\":{\"gridcolor\":\"white\",\"linecolor\":\"white\",\"ticks\":\"\"}},\"ternary\":{\"bgcolor\":\"#E5ECF6\",\"aaxis\":{\"gridcolor\":\"white\",\"linecolor\":\"white\",\"ticks\":\"\"},\"baxis\":{\"gridcolor\":\"white\",\"linecolor\":\"white\",\"ticks\":\"\"},\"caxis\":{\"gridcolor\":\"white\",\"linecolor\":\"white\",\"ticks\":\"\"}},\"coloraxis\":{\"colorbar\":{\"outlinewidth\":0,\"ticks\":\"\"}},\"colorscale\":{\"sequential\":[[0.0,\"#0d0887\"],[0.1111111111111111,\"#46039f\"],[0.2222222222222222,\"#7201a8\"],[0.3333333333333333,\"#9c179e\"],[0.4444444444444444,\"#bd3786\"],[0.5555555555555556,\"#d8576b\"],[0.6666666666666666,\"#ed7953\"],[0.7777777777777778,\"#fb9f3a\"],[0.8888888888888888,\"#fdca26\"],[1.0,\"#f0f921\"]],\"sequentialminus\":[[0.0,\"#0d0887\"],[0.1111111111111111,\"#46039f\"],[0.2222222222222222,\"#7201a8\"],[0.3333333333333333,\"#9c179e\"],[0.4444444444444444,\"#bd3786\"],[0.5555555555555556,\"#d8576b\"],[0.6666666666666666,\"#ed7953\"],[0.7777777777777778,\"#fb9f3a\"],[0.8888888888888888,\"#fdca26\"],[1.0,\"#f0f921\"]],\"diverging\":[[0,\"#8e0152\"],[0.1,\"#c51b7d\"],[0.2,\"#de77ae\"],[0.3,\"#f1b6da\"],[0.4,\"#fde0ef\"],[0.5,\"#f7f7f7\"],[0.6,\"#e6f5d0\"],[0.7,\"#b8e186\"],[0.8,\"#7fbc41\"],[0.9,\"#4d9221\"],[1,\"#276419\"]]},\"xaxis\":{\"gridcolor\":\"white\",\"linecolor\":\"white\",\"ticks\":\"\",\"title\":{\"standoff\":15},\"zerolinecolor\":\"white\",\"automargin\":true,\"zerolinewidth\":2},\"yaxis\":{\"gridcolor\":\"white\",\"linecolor\":\"white\",\"ticks\":\"\",\"title\":{\"standoff\":15},\"zerolinecolor\":\"white\",\"automargin\":true,\"zerolinewidth\":2},\"scene\":{\"xaxis\":{\"backgroundcolor\":\"#E5ECF6\",\"gridcolor\":\"white\",\"linecolor\":\"white\",\"showbackground\":true,\"ticks\":\"\",\"zerolinecolor\":\"white\",\"gridwidth\":2},\"yaxis\":{\"backgroundcolor\":\"#E5ECF6\",\"gridcolor\":\"white\",\"linecolor\":\"white\",\"showbackground\":true,\"ticks\":\"\",\"zerolinecolor\":\"white\",\"gridwidth\":2},\"zaxis\":{\"backgroundcolor\":\"#E5ECF6\",\"gridcolor\":\"white\",\"linecolor\":\"white\",\"showbackground\":true,\"ticks\":\"\",\"zerolinecolor\":\"white\",\"gridwidth\":2}},\"shapedefaults\":{\"line\":{\"color\":\"#2a3f5f\"}},\"annotationdefaults\":{\"arrowcolor\":\"#2a3f5f\",\"arrowhead\":0,\"arrowwidth\":1},\"geo\":{\"bgcolor\":\"white\",\"landcolor\":\"#E5ECF6\",\"subunitcolor\":\"white\",\"showland\":true,\"showlakes\":true,\"lakecolor\":\"white\"},\"title\":{\"x\":0.05},\"mapbox\":{\"style\":\"light\"}}},\"coloraxis\":{\"colorbar\":{\"title\":{\"text\":\"gdp\"}},\"colorscale\":[[0.0,\"rgb(247,251,255)\"],[0.125,\"rgb(222,235,247)\"],[0.25,\"rgb(198,219,239)\"],[0.375,\"rgb(158,202,225)\"],[0.5,\"rgb(107,174,214)\"],[0.625,\"rgb(66,146,198)\"],[0.75,\"rgb(33,113,181)\"],[0.875,\"rgb(8,81,156)\"],[1.0,\"rgb(8,48,107)\"]]},\"legend\":{\"tracegroupgap\":0},\"title\":{\"text\":\"GDP Contribution by Region in 2020\"}},                        {\"responsive\": true}                    ).then(function(){\n",
              "                            \n",
              "var gd = document.getElementById('ba3edd92-7fc1-4d80-a274-a4dd7bac7f62');\n",
              "var x = new MutationObserver(function (mutations, observer) {{\n",
              "        var display = window.getComputedStyle(gd).display;\n",
              "        if (!display || display === 'none') {{\n",
              "            console.log([gd, 'removed!']);\n",
              "            Plotly.purge(gd);\n",
              "            observer.disconnect();\n",
              "        }}\n",
              "}});\n",
              "\n",
              "// Listen for the removal of the full notebook cells\n",
              "var notebookContainer = gd.closest('#notebook-container');\n",
              "if (notebookContainer) {{\n",
              "    x.observe(notebookContainer, {childList: true});\n",
              "}}\n",
              "\n",
              "// Listen for the clearing of the current output cell\n",
              "var outputEl = gd.closest('.output');\n",
              "if (outputEl) {{\n",
              "    x.observe(outputEl, {childList: true});\n",
              "}}\n",
              "\n",
              "                        })                };            </script>        </div>\n",
              "</body>\n",
              "</html>"
            ]
          },
          "metadata": {}
        }
      ]
    },
    {
      "cell_type": "code",
      "source": [],
      "metadata": {
        "id": "YmcOgnOCt-mE"
      },
      "execution_count": 32,
      "outputs": []
    },
    {
      "cell_type": "markdown",
      "source": [
        "#📊Regression analysis questions (exploratory)\n"
      ],
      "metadata": {
        "id": "KpvB2aWUt_aB"
      }
    },
    {
      "cell_type": "markdown",
      "source": [
        "10. Is there a significant relationship between labor force size and GDP per capita across countries?\n",
        "\n",
        "\n"
      ],
      "metadata": {
        "id": "k2n0Hn1BuCUa"
      }
    },
    {
      "cell_type": "code",
      "source": [
        "# Suppose your DataFrame is df_clean and columns are named 'labor_force' and 'gdp_over_pop'\n",
        "\n",
        "X = df_clean['labor_force']\n",
        "y = df_clean['gdp_over_pop']\n",
        "\n",
        "# Now combine\n",
        "df = pd.concat([X, y], axis=1)\n",
        "\n",
        "# Then filter out zeros or negatives\n",
        "df_filtered = df[(df['labor_force'] > 0) & (df['gdp_over_pop'] > 0)]\n",
        "\n",
        "# Separate back\n",
        "X_filtered = df_filtered[['labor_force']]\n",
        "y_filtered = df_filtered['gdp_over_pop']\n",
        "\n",
        "# Log transform\n",
        "X_log = np.log(X_filtered).values.reshape(-1, 1)\n",
        "y_log = np.log(y_filtered).values.reshape(-1, 1)\n",
        "\n",
        "# Fit model\n",
        "model = LinearRegression()\n",
        "model.fit(X_log, y_log)\n",
        "\n",
        "# Extract coefficients\n",
        "slope = model.coef_[0][0]\n",
        "intercept = model.intercept_[0]\n",
        "r_squared = model.score(X_log, y_log)\n",
        "\n",
        "print(f\"Regression equation (log-log): log(GDP per capita) = {intercept:.2f} + {slope:.2f} * log(Labor Force)\")\n",
        "print(f\"R² (explained variance): {r_squared:.3f}\")\n"
      ],
      "metadata": {
        "colab": {
          "base_uri": "https://localhost:8080/"
        },
        "id": "jGkkYxgvuJO1",
        "outputId": "1a75696d-d1ea-4d42-c894-5c83548170b3"
      },
      "execution_count": 41,
      "outputs": [
        {
          "output_type": "stream",
          "name": "stdout",
          "text": [
            "Regression equation (log-log): log(GDP per capita) = 8.92 + -0.05 * log(Labor Force)\n",
            "R² (explained variance): 0.007\n"
          ]
        }
      ]
    },
    {
      "cell_type": "code",
      "source": [],
      "metadata": {
        "id": "70bfqwMiu9JD"
      },
      "execution_count": null,
      "outputs": []
    },
    {
      "cell_type": "markdown",
      "source": [
        "11. Can we predict GDP per capita using demographic indicators like labor force size and percentage of population over 65?\n",
        "\n"
      ],
      "metadata": {
        "id": "ySqQ1kL7uJor"
      }
    },
    {
      "cell_type": "code",
      "source": [
        "\n",
        "\n",
        "# Prepare your data (make sure to filter out zeros or negatives if using log-transform)\n",
        "df = df_clean.copy()  # your cleaned DataFrame with columns 'labor_force', 'pop_over_65', 'gdp_over_pop'\n",
        "\n",
        "# Filter to avoid log(0) issues\n",
        "df_filtered = df[(df['labor_force'] > 0) & (df['pop_over_65'] > 0) & (df['gdp_over_pop'] > 0)]\n",
        "\n",
        "# Log transform\n",
        "X = np.log(df_filtered[['labor_force', 'pop_over_65']])\n",
        "y = np.log(df_filtered['gdp_over_pop'])\n",
        "\n",
        "# Fit model\n",
        "model = LinearRegression()\n",
        "model.fit(X, y)\n",
        "\n",
        "# Coefficients and intercept\n",
        "coefficients = dict(zip(X.columns, model.coef_))\n",
        "intercept = model.intercept_\n",
        "r_squared = model.score(X, y)\n",
        "\n",
        "print(f\"Regression equation (log-log):\")\n",
        "print(f\"log(GDP per capita) = {intercept:.2f} + \" +\n",
        "      \" + \".join([f\"{coef:.2f} * log({var})\" for var, coef in coefficients.items()]))\n",
        "print(f\"R² (explained variance): {r_squared:.3f}\")\n"
      ],
      "metadata": {
        "colab": {
          "base_uri": "https://localhost:8080/"
        },
        "id": "Ih95u221uLJK",
        "outputId": "1685c1e9-8015-4cfa-ed1f-f25b26895172"
      },
      "execution_count": 42,
      "outputs": [
        {
          "output_type": "stream",
          "name": "stdout",
          "text": [
            "Regression equation (log-log):\n",
            "log(GDP per capita) = 6.80 + -0.08 * log(labor_force) + 1.50 * log(pop_over_65)\n",
            "R² (explained variance): 0.446\n"
          ]
        }
      ]
    },
    {
      "cell_type": "markdown",
      "source": [
        "12. Can we predict GDP per capita using demographic indicators like labor force and population over 65?"
      ],
      "metadata": {
        "id": "s3bWVBAQuLqC"
      }
    },
    {
      "cell_type": "code",
      "source": [],
      "metadata": {
        "id": "xFYI7m8xuMTb"
      },
      "execution_count": 42,
      "outputs": []
    },
    {
      "cell_type": "markdown",
      "source": [
        "Labor force has a small negative coefficient (-0.08) → Suggests that countries with very large labor forces often have lower GDP per capita (think: India, Nigeria).\n",
        "\n",
        "Population over 65 has a positive coefficient (1.50) → Indicates that countries with older populations (like Japan, Germany) tend to be wealthier.\n",
        "\n",
        "R² = 0.446 → The model explains 44.6% of the variance in GDP per capita. That's decent for a simple demographic model, meaning these factors have a moderate influence.\n",
        "\n",
        "The relationship is correlational, not causal.\n",
        "\n",
        "Using regression analysis, I tested whether demographic indicators like labor force size and elderly population (% over 65) could predict GDP per capita. The log-log model explained ~45% of the variance, with a strong positive association with aging populations and a slight negative trend with large labor forces, reflecting structural differences between richer and poorer nations.\n",
        "\n"
      ],
      "metadata": {
        "id": "9lJXtwPf6sLP"
      }
    },
    {
      "cell_type": "markdown",
      "source": [
        "Download files"
      ],
      "metadata": {
        "id": "aBhhBkO-DZKy"
      }
    },
    {
      "cell_type": "code",
      "source": [
        "\n",
        "!zip -r visuals.zip visuals\n",
        "files.download('visuals.zip')\n",
        "files.download('visuals/Treemap_GDPcontribution.html')\n"
      ],
      "metadata": {
        "colab": {
          "base_uri": "https://localhost:8080/",
          "height": 17
        },
        "id": "DUjq6I7YBXKK",
        "outputId": "8990b741-e4c5-4a28-e03f-6b6d721a01a1"
      },
      "execution_count": null,
      "outputs": [
        {
          "output_type": "display_data",
          "data": {
            "text/plain": [
              "<IPython.core.display.Javascript object>"
            ],
            "application/javascript": [
              "\n",
              "    async function download(id, filename, size) {\n",
              "      if (!google.colab.kernel.accessAllowed) {\n",
              "        return;\n",
              "      }\n",
              "      const div = document.createElement('div');\n",
              "      const label = document.createElement('label');\n",
              "      label.textContent = `Downloading \"${filename}\": `;\n",
              "      div.appendChild(label);\n",
              "      const progress = document.createElement('progress');\n",
              "      progress.max = size;\n",
              "      div.appendChild(progress);\n",
              "      document.body.appendChild(div);\n",
              "\n",
              "      const buffers = [];\n",
              "      let downloaded = 0;\n",
              "\n",
              "      const channel = await google.colab.kernel.comms.open(id);\n",
              "      // Send a message to notify the kernel that we're ready.\n",
              "      channel.send({})\n",
              "\n",
              "      for await (const message of channel.messages) {\n",
              "        // Send a message to notify the kernel that we're ready.\n",
              "        channel.send({})\n",
              "        if (message.buffers) {\n",
              "          for (const buffer of message.buffers) {\n",
              "            buffers.push(buffer);\n",
              "            downloaded += buffer.byteLength;\n",
              "            progress.value = downloaded;\n",
              "          }\n",
              "        }\n",
              "      }\n",
              "      const blob = new Blob(buffers, {type: 'application/binary'});\n",
              "      const a = document.createElement('a');\n",
              "      a.href = window.URL.createObjectURL(blob);\n",
              "      a.download = filename;\n",
              "      div.appendChild(a);\n",
              "      a.click();\n",
              "      div.remove();\n",
              "    }\n",
              "  "
            ]
          },
          "metadata": {}
        },
        {
          "output_type": "display_data",
          "data": {
            "text/plain": [
              "<IPython.core.display.Javascript object>"
            ],
            "application/javascript": [
              "download(\"download_9361392a-2976-4d94-9d43-e866b119e32b\", \"Treemap_GDPcontribution.html\", 4662806)"
            ]
          },
          "metadata": {}
        }
      ]
    }
  ]
}